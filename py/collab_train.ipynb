{
  "nbformat": 4,
  "nbformat_minor": 0,
  "metadata": {
    "colab": {
      "provenance": [],
      "gpuType": "T4",
      "authorship_tag": "ABX9TyO1ZkuNcuhUojiaMPnjxOfk",
      "include_colab_link": true
    },
    "kernelspec": {
      "name": "python3",
      "display_name": "Python 3"
    },
    "language_info": {
      "name": "python"
    }
  },
  "cells": [
    {
      "cell_type": "markdown",
      "metadata": {
        "id": "view-in-github",
        "colab_type": "text"
      },
      "source": [
        "<a href=\"https://colab.research.google.com/github/minhquangngo/msc_thesis/blob/main/py/collab_train.ipynb\" target=\"_parent\"><img src=\"https://colab.research.google.com/assets/colab-badge.svg\" alt=\"Open In Colab\"/></a>"
      ]
    },
    {
      "cell_type": "markdown",
      "source": [
        "#INIT"
      ],
      "metadata": {
        "id": "ENurTIASWwmO"
      }
    },
    {
      "cell_type": "code",
      "execution_count": 1,
      "metadata": {
        "id": "oPw7Bdr3Pp3r",
        "colab": {
          "base_uri": "https://localhost:8080/"
        },
        "outputId": "0254d32f-3a68-4e75-d5ee-f0581968d3ba"
      },
      "outputs": [
        {
          "output_type": "stream",
          "name": "stdout",
          "text": [
            "Drive already mounted at /content/drive; to attempt to forcibly remount, call drive.mount(\"/content/drive\", force_remount=True).\n"
          ]
        }
      ],
      "source": [
        "from google.colab import drive\n",
        "drive.mount('/content/drive')"
      ]
    },
    {
      "cell_type": "code",
      "source": [
        "%cd \"/content/drive/MyDrive/masters_thesis/msc_thesis\""
      ],
      "metadata": {
        "colab": {
          "base_uri": "https://localhost:8080/"
        },
        "id": "DKUkFq9xTo6U",
        "outputId": "cb60f37c-4a44-4005-ad1e-e15c8fee8ac0"
      },
      "execution_count": 2,
      "outputs": [
        {
          "output_type": "stream",
          "name": "stdout",
          "text": [
            "/content/drive/MyDrive/masters_thesis/msc_thesis\n"
          ]
        }
      ]
    },
    {
      "cell_type": "code",
      "source": [
        "!pwd"
      ],
      "metadata": {
        "colab": {
          "base_uri": "https://localhost:8080/"
        },
        "id": "I07Rj9yTg2wv",
        "outputId": "d4167247-0f6d-46f6-d599-cb45e6be95a5"
      },
      "execution_count": 3,
      "outputs": [
        {
          "output_type": "stream",
          "name": "stdout",
          "text": [
            "/content/drive/MyDrive/masters_thesis/msc_thesis\n"
          ]
        }
      ]
    },
    {
      "cell_type": "code",
      "source": [
        "!git clone https://github.com/minhquangngo/msc_thesis"
      ],
      "metadata": {
        "colab": {
          "base_uri": "https://localhost:8080/"
        },
        "id": "5tC4OH-GYnZt",
        "outputId": "248f7c68-c1b6-4e4e-aa8c-fa61a907077e"
      },
      "execution_count": null,
      "outputs": [
        {
          "output_type": "stream",
          "name": "stdout",
          "text": [
            "Cloning into 'msc_thesis'...\n",
            "remote: Enumerating objects: 308, done.\u001b[K\n",
            "remote: Counting objects: 100% (11/11), done.\u001b[K\n",
            "remote: Compressing objects: 100% (6/6), done.\u001b[K\n",
            "remote: Total 308 (delta 8), reused 5 (delta 5), pack-reused 297 (from 2)\u001b[K\n",
            "Receiving objects: 100% (308/308), 53.34 MiB | 13.71 MiB/s, done.\n",
            "Resolving deltas: 100% (180/180), done.\n"
          ]
        }
      ]
    },
    {
      "cell_type": "code",
      "source": [
        "!git pull"
      ],
      "metadata": {
        "colab": {
          "base_uri": "https://localhost:8080/"
        },
        "id": "Lt63EIQH8P_9",
        "outputId": "c1cb598a-c054-4d34-b6eb-63af590162af"
      },
      "execution_count": 7,
      "outputs": [
        {
          "output_type": "stream",
          "name": "stdout",
          "text": [
            "remote: Enumerating objects: 5, done.\u001b[K\n",
            "remote: Counting objects:  20% (1/5)\u001b[K\rremote: Counting objects:  40% (2/5)\u001b[K\rremote: Counting objects:  60% (3/5)\u001b[K\rremote: Counting objects:  80% (4/5)\u001b[K\rremote: Counting objects: 100% (5/5)\u001b[K\rremote: Counting objects: 100% (5/5), done.\u001b[K\n",
            "remote: Compressing objects: 100% (1/1)\u001b[K\rremote: Compressing objects: 100% (1/1), done.\u001b[K\n",
            "remote: Total 3 (delta 2), reused 3 (delta 2), pack-reused 0 (from 0)\u001b[K\n",
            "Unpacking objects: 100% (3/3), 292 bytes | 0 bytes/s, done.\n",
            "From https://github.com/minhquangngo/msc_thesis\n",
            "   ad781a8..dba5a98  main       -> origin/main\n",
            "Updating ad781a8..dba5a98\n",
            "Fast-forward\n",
            " requirements.txt | 2 \u001b[32m+\u001b[m\u001b[31m-\u001b[m\n",
            " 1 file changed, 1 insertion(+), 1 deletion(-)\n"
          ]
        }
      ]
    },
    {
      "cell_type": "code",
      "source": [
        "!ls"
      ],
      "metadata": {
        "colab": {
          "base_uri": "https://localhost:8080/"
        },
        "id": "jAZUr5duZK1r",
        "outputId": "4a25a280-13d2-4f01-a54d-70e253e1bb02"
      },
      "execution_count": 4,
      "outputs": [
        {
          "output_type": "stream",
          "name": "stdout",
          "text": [
            "attachments  latex  py\tREADME.md  requirements.txt\n"
          ]
        }
      ]
    },
    {
      "cell_type": "code",
      "source": [
        "!pip install -r requirements.txt"
      ],
      "metadata": {
        "colab": {
          "base_uri": "https://localhost:8080/"
        },
        "id": "M4sHWvPz8M-3",
        "outputId": "22db8a89-62a0-4b7c-a693-69de0099ca1d"
      },
      "execution_count": 5,
      "outputs": [
        {
          "output_type": "stream",
          "name": "stdout",
          "text": [
            "Requirement already satisfied: pandas==2.2.2 in /usr/local/lib/python3.11/dist-packages (from -r requirements.txt (line 2)) (2.2.2)\n",
            "Requirement already satisfied: numpy==1.26.4 in /usr/local/lib/python3.11/dist-packages (from -r requirements.txt (line 3)) (1.26.4)\n",
            "Requirement already satisfied: mlflow==2.22.0 in /usr/local/lib/python3.11/dist-packages (from -r requirements.txt (line 6)) (2.22.0)\n",
            "Requirement already satisfied: mlflow-skinny==2.22.0 in /usr/local/lib/python3.11/dist-packages (from -r requirements.txt (line 7)) (2.22.0)\n",
            "Requirement already satisfied: statsmodels==0.14.2 in /usr/local/lib/python3.11/dist-packages (from -r requirements.txt (line 10)) (0.14.2)\n",
            "Requirement already satisfied: matplotlib==3.10.0 in /usr/local/lib/python3.11/dist-packages (from -r requirements.txt (line 13)) (3.10.0)\n",
            "Requirement already satisfied: scienceplots in /usr/local/lib/python3.11/dist-packages (from -r requirements.txt (line 14)) (2.1.1)\n",
            "Requirement already satisfied: scikit-learn==1.5.0 in /usr/local/lib/python3.11/dist-packages (from -r requirements.txt (line 17)) (1.5.0)\n",
            "Requirement already satisfied: shap==0.45.0 in /usr/local/lib/python3.11/dist-packages (from -r requirements.txt (line 20)) (0.45.0)\n",
            "Requirement already satisfied: imodels==2.0.0 in /usr/local/lib/python3.11/dist-packages (from -r requirements.txt (line 23)) (2.0.0)\n",
            "Requirement already satisfied: python-dateutil>=2.8.2 in /usr/local/lib/python3.11/dist-packages (from pandas==2.2.2->-r requirements.txt (line 2)) (2.9.0.post0)\n",
            "Requirement already satisfied: pytz>=2020.1 in /usr/local/lib/python3.11/dist-packages (from pandas==2.2.2->-r requirements.txt (line 2)) (2025.2)\n",
            "Requirement already satisfied: tzdata>=2022.7 in /usr/local/lib/python3.11/dist-packages (from pandas==2.2.2->-r requirements.txt (line 2)) (2025.2)\n",
            "Requirement already satisfied: Flask<4 in /usr/local/lib/python3.11/dist-packages (from mlflow==2.22.0->-r requirements.txt (line 6)) (3.1.1)\n",
            "Requirement already satisfied: Jinja2<4,>=2.11 in /usr/local/lib/python3.11/dist-packages (from mlflow==2.22.0->-r requirements.txt (line 6)) (3.1.6)\n",
            "Requirement already satisfied: alembic!=1.10.0,<2 in /usr/local/lib/python3.11/dist-packages (from mlflow==2.22.0->-r requirements.txt (line 6)) (1.16.1)\n",
            "Requirement already satisfied: docker<8,>=4.0.0 in /usr/local/lib/python3.11/dist-packages (from mlflow==2.22.0->-r requirements.txt (line 6)) (7.1.0)\n",
            "Requirement already satisfied: graphene<4 in /usr/local/lib/python3.11/dist-packages (from mlflow==2.22.0->-r requirements.txt (line 6)) (3.4.3)\n",
            "Requirement already satisfied: gunicorn<24 in /usr/local/lib/python3.11/dist-packages (from mlflow==2.22.0->-r requirements.txt (line 6)) (23.0.0)\n",
            "Requirement already satisfied: markdown<4,>=3.3 in /usr/local/lib/python3.11/dist-packages (from mlflow==2.22.0->-r requirements.txt (line 6)) (3.8)\n",
            "Requirement already satisfied: pyarrow<20,>=4.0.0 in /usr/local/lib/python3.11/dist-packages (from mlflow==2.22.0->-r requirements.txt (line 6)) (18.1.0)\n",
            "Requirement already satisfied: scipy<2 in /usr/local/lib/python3.11/dist-packages (from mlflow==2.22.0->-r requirements.txt (line 6)) (1.15.3)\n",
            "Requirement already satisfied: sqlalchemy<3,>=1.4.0 in /usr/local/lib/python3.11/dist-packages (from mlflow==2.22.0->-r requirements.txt (line 6)) (2.0.41)\n",
            "Requirement already satisfied: cachetools<6,>=5.0.0 in /usr/local/lib/python3.11/dist-packages (from mlflow-skinny==2.22.0->-r requirements.txt (line 7)) (5.5.2)\n",
            "Requirement already satisfied: click<9,>=7.0 in /usr/local/lib/python3.11/dist-packages (from mlflow-skinny==2.22.0->-r requirements.txt (line 7)) (8.2.1)\n",
            "Requirement already satisfied: cloudpickle<4 in /usr/local/lib/python3.11/dist-packages (from mlflow-skinny==2.22.0->-r requirements.txt (line 7)) (3.1.1)\n",
            "Requirement already satisfied: databricks-sdk<1,>=0.20.0 in /usr/local/lib/python3.11/dist-packages (from mlflow-skinny==2.22.0->-r requirements.txt (line 7)) (0.55.0)\n",
            "Requirement already satisfied: fastapi<1 in /usr/local/lib/python3.11/dist-packages (from mlflow-skinny==2.22.0->-r requirements.txt (line 7)) (0.115.12)\n",
            "Requirement already satisfied: gitpython<4,>=3.1.9 in /usr/local/lib/python3.11/dist-packages (from mlflow-skinny==2.22.0->-r requirements.txt (line 7)) (3.1.44)\n",
            "Requirement already satisfied: importlib_metadata!=4.7.0,<9,>=3.7.0 in /usr/local/lib/python3.11/dist-packages (from mlflow-skinny==2.22.0->-r requirements.txt (line 7)) (8.6.1)\n",
            "Requirement already satisfied: opentelemetry-api<3,>=1.9.0 in /usr/local/lib/python3.11/dist-packages (from mlflow-skinny==2.22.0->-r requirements.txt (line 7)) (1.33.1)\n",
            "Requirement already satisfied: opentelemetry-sdk<3,>=1.9.0 in /usr/local/lib/python3.11/dist-packages (from mlflow-skinny==2.22.0->-r requirements.txt (line 7)) (1.33.1)\n",
            "Requirement already satisfied: packaging<25 in /usr/local/lib/python3.11/dist-packages (from mlflow-skinny==2.22.0->-r requirements.txt (line 7)) (24.2)\n",
            "Requirement already satisfied: protobuf<7,>=3.12.0 in /usr/local/lib/python3.11/dist-packages (from mlflow-skinny==2.22.0->-r requirements.txt (line 7)) (5.29.4)\n",
            "Requirement already satisfied: pydantic<3,>=1.10.8 in /usr/local/lib/python3.11/dist-packages (from mlflow-skinny==2.22.0->-r requirements.txt (line 7)) (2.11.4)\n",
            "Requirement already satisfied: pyyaml<7,>=5.1 in /usr/local/lib/python3.11/dist-packages (from mlflow-skinny==2.22.0->-r requirements.txt (line 7)) (6.0.2)\n",
            "Requirement already satisfied: requests<3,>=2.17.3 in /usr/local/lib/python3.11/dist-packages (from mlflow-skinny==2.22.0->-r requirements.txt (line 7)) (2.32.3)\n",
            "Requirement already satisfied: sqlparse<1,>=0.4.0 in /usr/local/lib/python3.11/dist-packages (from mlflow-skinny==2.22.0->-r requirements.txt (line 7)) (0.5.3)\n",
            "Requirement already satisfied: typing-extensions<5,>=4.0.0 in /usr/local/lib/python3.11/dist-packages (from mlflow-skinny==2.22.0->-r requirements.txt (line 7)) (4.13.2)\n",
            "Requirement already satisfied: uvicorn<1 in /usr/local/lib/python3.11/dist-packages (from mlflow-skinny==2.22.0->-r requirements.txt (line 7)) (0.34.2)\n",
            "Requirement already satisfied: patsy>=0.5.6 in /usr/local/lib/python3.11/dist-packages (from statsmodels==0.14.2->-r requirements.txt (line 10)) (1.0.1)\n",
            "Requirement already satisfied: contourpy>=1.0.1 in /usr/local/lib/python3.11/dist-packages (from matplotlib==3.10.0->-r requirements.txt (line 13)) (1.3.2)\n",
            "Requirement already satisfied: cycler>=0.10 in /usr/local/lib/python3.11/dist-packages (from matplotlib==3.10.0->-r requirements.txt (line 13)) (0.12.1)\n",
            "Requirement already satisfied: fonttools>=4.22.0 in /usr/local/lib/python3.11/dist-packages (from matplotlib==3.10.0->-r requirements.txt (line 13)) (4.58.0)\n",
            "Requirement already satisfied: kiwisolver>=1.3.1 in /usr/local/lib/python3.11/dist-packages (from matplotlib==3.10.0->-r requirements.txt (line 13)) (1.4.8)\n",
            "Requirement already satisfied: pillow>=8 in /usr/local/lib/python3.11/dist-packages (from matplotlib==3.10.0->-r requirements.txt (line 13)) (11.2.1)\n",
            "Requirement already satisfied: pyparsing>=2.3.1 in /usr/local/lib/python3.11/dist-packages (from matplotlib==3.10.0->-r requirements.txt (line 13)) (3.2.3)\n",
            "Requirement already satisfied: joblib>=1.2.0 in /usr/local/lib/python3.11/dist-packages (from scikit-learn==1.5.0->-r requirements.txt (line 17)) (1.5.0)\n",
            "Requirement already satisfied: threadpoolctl>=3.1.0 in /usr/local/lib/python3.11/dist-packages (from scikit-learn==1.5.0->-r requirements.txt (line 17)) (3.6.0)\n",
            "Requirement already satisfied: tqdm>=4.27.0 in /usr/local/lib/python3.11/dist-packages (from shap==0.45.0->-r requirements.txt (line 20)) (4.67.1)\n",
            "Requirement already satisfied: slicer==0.0.7 in /usr/local/lib/python3.11/dist-packages (from shap==0.45.0->-r requirements.txt (line 20)) (0.0.7)\n",
            "Requirement already satisfied: numba in /usr/local/lib/python3.11/dist-packages (from shap==0.45.0->-r requirements.txt (line 20)) (0.60.0)\n",
            "Requirement already satisfied: mlxtend>=0.18.0 in /usr/local/lib/python3.11/dist-packages (from imodels==2.0.0->-r requirements.txt (line 23)) (0.23.4)\n",
            "Requirement already satisfied: Mako in /usr/lib/python3/dist-packages (from alembic!=1.10.0,<2->mlflow==2.22.0->-r requirements.txt (line 6)) (1.1.3)\n",
            "Requirement already satisfied: google-auth~=2.0 in /usr/local/lib/python3.11/dist-packages (from databricks-sdk<1,>=0.20.0->mlflow-skinny==2.22.0->-r requirements.txt (line 7)) (2.38.0)\n",
            "Requirement already satisfied: urllib3>=1.26.0 in /usr/local/lib/python3.11/dist-packages (from docker<8,>=4.0.0->mlflow==2.22.0->-r requirements.txt (line 6)) (2.4.0)\n",
            "Requirement already satisfied: starlette<0.47.0,>=0.40.0 in /usr/local/lib/python3.11/dist-packages (from fastapi<1->mlflow-skinny==2.22.0->-r requirements.txt (line 7)) (0.46.2)\n",
            "Requirement already satisfied: blinker>=1.9.0 in /usr/local/lib/python3.11/dist-packages (from Flask<4->mlflow==2.22.0->-r requirements.txt (line 6)) (1.9.0)\n",
            "Requirement already satisfied: itsdangerous>=2.2.0 in /usr/local/lib/python3.11/dist-packages (from Flask<4->mlflow==2.22.0->-r requirements.txt (line 6)) (2.2.0)\n",
            "Requirement already satisfied: markupsafe>=2.1.1 in /usr/local/lib/python3.11/dist-packages (from Flask<4->mlflow==2.22.0->-r requirements.txt (line 6)) (3.0.2)\n",
            "Requirement already satisfied: werkzeug>=3.1.0 in /usr/local/lib/python3.11/dist-packages (from Flask<4->mlflow==2.22.0->-r requirements.txt (line 6)) (3.1.3)\n",
            "Requirement already satisfied: gitdb<5,>=4.0.1 in /usr/local/lib/python3.11/dist-packages (from gitpython<4,>=3.1.9->mlflow-skinny==2.22.0->-r requirements.txt (line 7)) (4.0.12)\n",
            "Requirement already satisfied: graphql-core<3.3,>=3.1 in /usr/local/lib/python3.11/dist-packages (from graphene<4->mlflow==2.22.0->-r requirements.txt (line 6)) (3.2.6)\n",
            "Requirement already satisfied: graphql-relay<3.3,>=3.1 in /usr/local/lib/python3.11/dist-packages (from graphene<4->mlflow==2.22.0->-r requirements.txt (line 6)) (3.2.0)\n",
            "Requirement already satisfied: zipp>=3.20 in /usr/local/lib/python3.11/dist-packages (from importlib_metadata!=4.7.0,<9,>=3.7.0->mlflow-skinny==2.22.0->-r requirements.txt (line 7)) (3.21.0)\n",
            "Requirement already satisfied: deprecated>=1.2.6 in /usr/local/lib/python3.11/dist-packages (from opentelemetry-api<3,>=1.9.0->mlflow-skinny==2.22.0->-r requirements.txt (line 7)) (1.2.18)\n",
            "Requirement already satisfied: opentelemetry-semantic-conventions==0.54b1 in /usr/local/lib/python3.11/dist-packages (from opentelemetry-sdk<3,>=1.9.0->mlflow-skinny==2.22.0->-r requirements.txt (line 7)) (0.54b1)\n",
            "Requirement already satisfied: annotated-types>=0.6.0 in /usr/local/lib/python3.11/dist-packages (from pydantic<3,>=1.10.8->mlflow-skinny==2.22.0->-r requirements.txt (line 7)) (0.7.0)\n",
            "Requirement already satisfied: pydantic-core==2.33.2 in /usr/local/lib/python3.11/dist-packages (from pydantic<3,>=1.10.8->mlflow-skinny==2.22.0->-r requirements.txt (line 7)) (2.33.2)\n",
            "Requirement already satisfied: typing-inspection>=0.4.0 in /usr/local/lib/python3.11/dist-packages (from pydantic<3,>=1.10.8->mlflow-skinny==2.22.0->-r requirements.txt (line 7)) (0.4.1)\n",
            "Requirement already satisfied: six>=1.5 in /usr/local/lib/python3.11/dist-packages (from python-dateutil>=2.8.2->pandas==2.2.2->-r requirements.txt (line 2)) (1.17.0)\n",
            "Requirement already satisfied: charset-normalizer<4,>=2 in /usr/local/lib/python3.11/dist-packages (from requests<3,>=2.17.3->mlflow-skinny==2.22.0->-r requirements.txt (line 7)) (3.4.2)\n",
            "Requirement already satisfied: idna<4,>=2.5 in /usr/local/lib/python3.11/dist-packages (from requests<3,>=2.17.3->mlflow-skinny==2.22.0->-r requirements.txt (line 7)) (3.10)\n",
            "Requirement already satisfied: certifi>=2017.4.17 in /usr/local/lib/python3.11/dist-packages (from requests<3,>=2.17.3->mlflow-skinny==2.22.0->-r requirements.txt (line 7)) (2025.4.26)\n",
            "Requirement already satisfied: greenlet>=1 in /usr/local/lib/python3.11/dist-packages (from sqlalchemy<3,>=1.4.0->mlflow==2.22.0->-r requirements.txt (line 6)) (3.2.2)\n",
            "Requirement already satisfied: h11>=0.8 in /usr/local/lib/python3.11/dist-packages (from uvicorn<1->mlflow-skinny==2.22.0->-r requirements.txt (line 7)) (0.16.0)\n",
            "Requirement already satisfied: llvmlite<0.44,>=0.43.0dev0 in /usr/local/lib/python3.11/dist-packages (from numba->shap==0.45.0->-r requirements.txt (line 20)) (0.43.0)\n",
            "Requirement already satisfied: wrapt<2,>=1.10 in /usr/local/lib/python3.11/dist-packages (from deprecated>=1.2.6->opentelemetry-api<3,>=1.9.0->mlflow-skinny==2.22.0->-r requirements.txt (line 7)) (1.17.2)\n",
            "Requirement already satisfied: smmap<6,>=3.0.1 in /usr/local/lib/python3.11/dist-packages (from gitdb<5,>=4.0.1->gitpython<4,>=3.1.9->mlflow-skinny==2.22.0->-r requirements.txt (line 7)) (5.0.2)\n",
            "Requirement already satisfied: pyasn1-modules>=0.2.1 in /usr/local/lib/python3.11/dist-packages (from google-auth~=2.0->databricks-sdk<1,>=0.20.0->mlflow-skinny==2.22.0->-r requirements.txt (line 7)) (0.4.2)\n",
            "Requirement already satisfied: rsa<5,>=3.1.4 in /usr/local/lib/python3.11/dist-packages (from google-auth~=2.0->databricks-sdk<1,>=0.20.0->mlflow-skinny==2.22.0->-r requirements.txt (line 7)) (4.9.1)\n",
            "Requirement already satisfied: anyio<5,>=3.6.2 in /usr/local/lib/python3.11/dist-packages (from starlette<0.47.0,>=0.40.0->fastapi<1->mlflow-skinny==2.22.0->-r requirements.txt (line 7)) (4.9.0)\n",
            "Requirement already satisfied: sniffio>=1.1 in /usr/local/lib/python3.11/dist-packages (from anyio<5,>=3.6.2->starlette<0.47.0,>=0.40.0->fastapi<1->mlflow-skinny==2.22.0->-r requirements.txt (line 7)) (1.3.1)\n",
            "Requirement already satisfied: pyasn1<0.7.0,>=0.6.1 in /usr/local/lib/python3.11/dist-packages (from pyasn1-modules>=0.2.1->google-auth~=2.0->databricks-sdk<1,>=0.20.0->mlflow-skinny==2.22.0->-r requirements.txt (line 7)) (0.6.1)\n"
          ]
        }
      ]
    },
    {
      "cell_type": "code",
      "source": [
        "import pandas as pd\n",
        "from pathlib import Path\n",
        "import models\n",
        "import mlflow\n",
        "import os\n",
        "import subprocess\n",
        "import time\n"
      ],
      "metadata": {
        "id": "wJU6eIhmbckO"
      },
      "execution_count": 18,
      "outputs": []
    },
    {
      "cell_type": "code",
      "source": [
        "data_dir = Path('/content/drive/MyDrive/masters_thesis/data')\n",
        "os.environ['data_dir'] = str(data_dir)"
      ],
      "metadata": {
        "id": "eFxUq0JWbUuQ"
      },
      "execution_count": 26,
      "outputs": []
    },
    {
      "cell_type": "code",
      "source": [
        "import mlflow, os"
      ],
      "metadata": {
        "id": "IvA_6bfZcool"
      },
      "execution_count": 8,
      "outputs": []
    },
    {
      "cell_type": "code",
      "source": [
        "MLFLOW_DIR = Path('/content/drive/MyDrive/masters_thesis/mlflow')\n",
        "MLFLOW_DIR.mkdir(exist_ok=True)\n",
        "os.environ['MLFLOW_TRACKING_URI'] = f'file://{MLFLOW_DIR}'\n",
        "mlflow.set_tracking_uri(os.environ['MLFLOW_TRACKING_URI'])"
      ],
      "metadata": {
        "id": "VN5BwmC-crsA"
      },
      "execution_count": 20,
      "outputs": []
    },
    {
      "cell_type": "markdown",
      "source": [
        "Keeping the instance awke so that the runs does not get shut off"
      ],
      "metadata": {
        "id": "bEpQbe3-o7Jq"
      }
    },
    {
      "cell_type": "markdown",
      "source": [],
      "metadata": {
        "id": "VK96Xsm1o7Gh"
      }
    },
    {
      "cell_type": "code",
      "source": [
        "import time, threading, IPython.display as disp\n",
        "def keep_awake():\n",
        "    while True:\n",
        "        time.sleep(60)\n",
        "        disp.clear_output(wait=True); disp.display(time.ctime())\n",
        "threading.Thread(target=keep_awake).start()"
      ],
      "metadata": {
        "id": "XOZWvi5CmHbz"
      },
      "execution_count": 11,
      "outputs": []
    },
    {
      "cell_type": "code",
      "source": [
        "import sys\n",
        "sys.path.insert(0, '/content/drive/MyDrive/masters_thesis/msc_thesis/py')"
      ],
      "metadata": {
        "id": "rfwVKT1NmRVL"
      },
      "execution_count": 15,
      "outputs": []
    },
    {
      "cell_type": "markdown",
      "source": [
        "## DATA IMPORTS"
      ],
      "metadata": {
        "id": "ySuAvsZTnYXr"
      }
    },
    {
      "cell_type": "code",
      "source": [
        "data_dir"
      ],
      "metadata": {
        "colab": {
          "base_uri": "https://localhost:8080/"
        },
        "id": "eblTs-RwoJVI",
        "outputId": "0c465c38-79db-4f0f-9f40-157d9d4e2a15"
      },
      "execution_count": 27,
      "outputs": [
        {
          "output_type": "execute_result",
          "data": {
            "text/plain": [
              "PosixPath('/content/drive/MyDrive/masters_thesis/data')"
            ]
          },
          "metadata": {},
          "execution_count": 27
        }
      ]
    },
    {
      "cell_type": "code",
      "source": [
        "df_dict = {\n",
        "    file.stem.replace(\"sector_\",\"\") : pd.read_parquet(file)\n",
        "    for file in data_dir.glob(\"sector_*.parquet\")\n",
        "}"
      ],
      "metadata": {
        "id": "aVBfywmOnXlR"
      },
      "execution_count": 28,
      "outputs": []
    },
    {
      "cell_type": "code",
      "source": [
        "df_dict['10']"
      ],
      "metadata": {
        "colab": {
          "base_uri": "https://localhost:8080/",
          "height": 648
        },
        "id": "XLmNlSlUn-8M",
        "outputId": "9d7fa2bd-684b-45a6-bcd3-714becd700fd"
      },
      "execution_count": 29,
      "outputs": [
        {
          "output_type": "execute_result",
          "data": {
            "text/plain": [
              "                     vol       ret        shrout        prc      askhi  \\\n",
              "index                                                                    \n",
              "1998-01-02  1.420280e+06  0.003287  1.013942e+06  62.745296  63.068083   \n",
              "1998-01-05  2.406067e+06 -0.021214  1.019566e+06  61.345891  62.921670   \n",
              "1998-01-06  3.054767e+06 -0.034761  1.018568e+06  59.217327  60.627729   \n",
              "1998-01-07  3.424121e+06  0.024678  1.023829e+06  60.827941  61.007635   \n",
              "1998-01-08  2.111215e+06 -0.026138  1.026307e+06  59.194500  60.581523   \n",
              "...                  ...       ...           ...        ...        ...   \n",
              "2018-12-21  2.347036e+07 -0.010369  1.883786e+06  66.738612  68.679728   \n",
              "2018-12-24  7.596090e+06 -0.040239  1.888364e+06  64.208265  66.537325   \n",
              "2018-12-26  1.292724e+07  0.062713  1.874340e+06  68.235958  68.260304   \n",
              "2018-12-27  1.189542e+07  0.006472  1.873945e+06  68.997290  69.016614   \n",
              "2018-12-28  9.846492e+06 -0.008945  1.873197e+06  68.420173  69.738306   \n",
              "\n",
              "                bidlo    put_volume   call_volume  put_call_ratio  vix_close  \\\n",
              "index                                                                          \n",
              "1998-01-02  61.909911    517.261250    334.857022        1.847545  23.420000   \n",
              "1998-01-05  60.701696    530.978253    660.178316        1.212341  24.360001   \n",
              "1998-01-06  58.551701   1616.712030   1889.734468        1.173952  25.660000   \n",
              "1998-01-07  58.900709    698.726996   1089.622229        0.860878  25.070000   \n",
              "1998-01-08  58.992218    803.304360   1392.336539        0.953283  26.010000   \n",
              "...               ...           ...           ...             ...        ...   \n",
              "2018-12-21  66.089400  11076.968965  11395.992407        1.101672  30.110001   \n",
              "2018-12-24  64.152997   8901.756413  12131.554525        0.944079  36.070000   \n",
              "2018-12-26  63.652624   8887.402809  17054.673252        0.715864  30.410000   \n",
              "2018-12-27  66.134674   5811.118599  12469.599469        0.656975  29.959999   \n",
              "2018-12-28  67.865446  10260.043185  11810.358035        0.937285  28.340000   \n",
              "\n",
              "            ...  enhanced_baker  news_sent        mktcap   turn_sd  \\\n",
              "index       ...                                                      \n",
              "1998-01-02  ...           2.396       0.27  6.448867e+07  3.072879   \n",
              "1998-01-05  ...           2.396       0.25  6.375211e+07  3.072879   \n",
              "1998-01-06  ...           2.396       0.25  6.141981e+07  3.072879   \n",
              "1998-01-07  ...           2.396       0.26  6.361143e+07  3.072879   \n",
              "1998-01-08  ...           2.396       0.22  6.219968e+07  3.072879   \n",
              "...         ...             ...        ...           ...       ...   \n",
              "2018-12-21  ...           2.409      -0.04  1.307736e+08  3.072879   \n",
              "2018-12-24  ...           2.409      -0.04  1.263795e+08  3.072879   \n",
              "2018-12-26  ...           2.409      -0.08  1.324008e+08  3.072879   \n",
              "2018-12-27  ...           2.409      -0.07  1.337375e+08  3.072879   \n",
              "2018-12-28  ...           2.409      -0.07  1.324667e+08  3.072879   \n",
              "\n",
              "             sect_mktcap      mvel1        dolvol  daily_illq  excess_ret  \\\n",
              "index                                                                       \n",
              "1998-01-02  6.362010e+07  17.982000  8.911586e+07    0.000037    0.003077   \n",
              "1998-01-05  6.254618e+07  17.970513  1.476023e+08    0.000144   -0.021424   \n",
              "1998-01-06  6.031685e+07  17.933243  1.808951e+08    0.000192   -0.034971   \n",
              "1998-01-07  6.227738e+07  17.968304  2.082822e+08    0.000118    0.024468   \n",
              "1998-01-08  6.075174e+07  17.945860  1.249723e+08    0.000209   -0.026348   \n",
              "...                  ...        ...           ...         ...         ...   \n",
              "2018-12-21  1.257212e+08  18.688979  1.566379e+09    0.000007   -0.010479   \n",
              "2018-12-24  1.212486e+08  18.654799  4.877318e+08    0.000083   -0.040349   \n",
              "2018-12-26  1.278974e+08  18.701344  8.821027e+08    0.000071    0.062603   \n",
              "2018-12-27  1.292971e+08  18.711390  8.207516e+08    0.000008    0.006362   \n",
              "2018-12-28  1.281645e+08  18.701842  6.736987e+08    0.000013   -0.009055   \n",
              "\n",
              "            excess_mkt_ret  \n",
              "index                       \n",
              "1998-01-02         0.00199  \n",
              "1998-01-05         0.00199  \n",
              "1998-01-06        -0.01061  \n",
              "1998-01-07        -0.00401  \n",
              "1998-01-08        -0.00841  \n",
              "...                    ...  \n",
              "2018-12-21        -0.02181  \n",
              "2018-12-24        -0.02561  \n",
              "2018-12-26         0.05049  \n",
              "2018-12-27         0.00769  \n",
              "2018-12-28        -0.00041  \n",
              "\n",
              "[5282 rows x 30 columns]"
            ],
            "text/html": [
              "\n",
              "  <div id=\"df-1106395c-2557-4bbe-81dd-0e94cec200b0\" class=\"colab-df-container\">\n",
              "    <div>\n",
              "<style scoped>\n",
              "    .dataframe tbody tr th:only-of-type {\n",
              "        vertical-align: middle;\n",
              "    }\n",
              "\n",
              "    .dataframe tbody tr th {\n",
              "        vertical-align: top;\n",
              "    }\n",
              "\n",
              "    .dataframe thead th {\n",
              "        text-align: right;\n",
              "    }\n",
              "</style>\n",
              "<table border=\"1\" class=\"dataframe\">\n",
              "  <thead>\n",
              "    <tr style=\"text-align: right;\">\n",
              "      <th></th>\n",
              "      <th>vol</th>\n",
              "      <th>ret</th>\n",
              "      <th>shrout</th>\n",
              "      <th>prc</th>\n",
              "      <th>askhi</th>\n",
              "      <th>bidlo</th>\n",
              "      <th>put_volume</th>\n",
              "      <th>call_volume</th>\n",
              "      <th>put_call_ratio</th>\n",
              "      <th>vix_close</th>\n",
              "      <th>...</th>\n",
              "      <th>enhanced_baker</th>\n",
              "      <th>news_sent</th>\n",
              "      <th>mktcap</th>\n",
              "      <th>turn_sd</th>\n",
              "      <th>sect_mktcap</th>\n",
              "      <th>mvel1</th>\n",
              "      <th>dolvol</th>\n",
              "      <th>daily_illq</th>\n",
              "      <th>excess_ret</th>\n",
              "      <th>excess_mkt_ret</th>\n",
              "    </tr>\n",
              "    <tr>\n",
              "      <th>index</th>\n",
              "      <th></th>\n",
              "      <th></th>\n",
              "      <th></th>\n",
              "      <th></th>\n",
              "      <th></th>\n",
              "      <th></th>\n",
              "      <th></th>\n",
              "      <th></th>\n",
              "      <th></th>\n",
              "      <th></th>\n",
              "      <th></th>\n",
              "      <th></th>\n",
              "      <th></th>\n",
              "      <th></th>\n",
              "      <th></th>\n",
              "      <th></th>\n",
              "      <th></th>\n",
              "      <th></th>\n",
              "      <th></th>\n",
              "      <th></th>\n",
              "      <th></th>\n",
              "    </tr>\n",
              "  </thead>\n",
              "  <tbody>\n",
              "    <tr>\n",
              "      <th>1998-01-02</th>\n",
              "      <td>1.420280e+06</td>\n",
              "      <td>0.003287</td>\n",
              "      <td>1.013942e+06</td>\n",
              "      <td>62.745296</td>\n",
              "      <td>63.068083</td>\n",
              "      <td>61.909911</td>\n",
              "      <td>517.261250</td>\n",
              "      <td>334.857022</td>\n",
              "      <td>1.847545</td>\n",
              "      <td>23.420000</td>\n",
              "      <td>...</td>\n",
              "      <td>2.396</td>\n",
              "      <td>0.27</td>\n",
              "      <td>6.448867e+07</td>\n",
              "      <td>3.072879</td>\n",
              "      <td>6.362010e+07</td>\n",
              "      <td>17.982000</td>\n",
              "      <td>8.911586e+07</td>\n",
              "      <td>0.000037</td>\n",
              "      <td>0.003077</td>\n",
              "      <td>0.00199</td>\n",
              "    </tr>\n",
              "    <tr>\n",
              "      <th>1998-01-05</th>\n",
              "      <td>2.406067e+06</td>\n",
              "      <td>-0.021214</td>\n",
              "      <td>1.019566e+06</td>\n",
              "      <td>61.345891</td>\n",
              "      <td>62.921670</td>\n",
              "      <td>60.701696</td>\n",
              "      <td>530.978253</td>\n",
              "      <td>660.178316</td>\n",
              "      <td>1.212341</td>\n",
              "      <td>24.360001</td>\n",
              "      <td>...</td>\n",
              "      <td>2.396</td>\n",
              "      <td>0.25</td>\n",
              "      <td>6.375211e+07</td>\n",
              "      <td>3.072879</td>\n",
              "      <td>6.254618e+07</td>\n",
              "      <td>17.970513</td>\n",
              "      <td>1.476023e+08</td>\n",
              "      <td>0.000144</td>\n",
              "      <td>-0.021424</td>\n",
              "      <td>0.00199</td>\n",
              "    </tr>\n",
              "    <tr>\n",
              "      <th>1998-01-06</th>\n",
              "      <td>3.054767e+06</td>\n",
              "      <td>-0.034761</td>\n",
              "      <td>1.018568e+06</td>\n",
              "      <td>59.217327</td>\n",
              "      <td>60.627729</td>\n",
              "      <td>58.551701</td>\n",
              "      <td>1616.712030</td>\n",
              "      <td>1889.734468</td>\n",
              "      <td>1.173952</td>\n",
              "      <td>25.660000</td>\n",
              "      <td>...</td>\n",
              "      <td>2.396</td>\n",
              "      <td>0.25</td>\n",
              "      <td>6.141981e+07</td>\n",
              "      <td>3.072879</td>\n",
              "      <td>6.031685e+07</td>\n",
              "      <td>17.933243</td>\n",
              "      <td>1.808951e+08</td>\n",
              "      <td>0.000192</td>\n",
              "      <td>-0.034971</td>\n",
              "      <td>-0.01061</td>\n",
              "    </tr>\n",
              "    <tr>\n",
              "      <th>1998-01-07</th>\n",
              "      <td>3.424121e+06</td>\n",
              "      <td>0.024678</td>\n",
              "      <td>1.023829e+06</td>\n",
              "      <td>60.827941</td>\n",
              "      <td>61.007635</td>\n",
              "      <td>58.900709</td>\n",
              "      <td>698.726996</td>\n",
              "      <td>1089.622229</td>\n",
              "      <td>0.860878</td>\n",
              "      <td>25.070000</td>\n",
              "      <td>...</td>\n",
              "      <td>2.396</td>\n",
              "      <td>0.26</td>\n",
              "      <td>6.361143e+07</td>\n",
              "      <td>3.072879</td>\n",
              "      <td>6.227738e+07</td>\n",
              "      <td>17.968304</td>\n",
              "      <td>2.082822e+08</td>\n",
              "      <td>0.000118</td>\n",
              "      <td>0.024468</td>\n",
              "      <td>-0.00401</td>\n",
              "    </tr>\n",
              "    <tr>\n",
              "      <th>1998-01-08</th>\n",
              "      <td>2.111215e+06</td>\n",
              "      <td>-0.026138</td>\n",
              "      <td>1.026307e+06</td>\n",
              "      <td>59.194500</td>\n",
              "      <td>60.581523</td>\n",
              "      <td>58.992218</td>\n",
              "      <td>803.304360</td>\n",
              "      <td>1392.336539</td>\n",
              "      <td>0.953283</td>\n",
              "      <td>26.010000</td>\n",
              "      <td>...</td>\n",
              "      <td>2.396</td>\n",
              "      <td>0.22</td>\n",
              "      <td>6.219968e+07</td>\n",
              "      <td>3.072879</td>\n",
              "      <td>6.075174e+07</td>\n",
              "      <td>17.945860</td>\n",
              "      <td>1.249723e+08</td>\n",
              "      <td>0.000209</td>\n",
              "      <td>-0.026348</td>\n",
              "      <td>-0.00841</td>\n",
              "    </tr>\n",
              "    <tr>\n",
              "      <th>...</th>\n",
              "      <td>...</td>\n",
              "      <td>...</td>\n",
              "      <td>...</td>\n",
              "      <td>...</td>\n",
              "      <td>...</td>\n",
              "      <td>...</td>\n",
              "      <td>...</td>\n",
              "      <td>...</td>\n",
              "      <td>...</td>\n",
              "      <td>...</td>\n",
              "      <td>...</td>\n",
              "      <td>...</td>\n",
              "      <td>...</td>\n",
              "      <td>...</td>\n",
              "      <td>...</td>\n",
              "      <td>...</td>\n",
              "      <td>...</td>\n",
              "      <td>...</td>\n",
              "      <td>...</td>\n",
              "      <td>...</td>\n",
              "      <td>...</td>\n",
              "    </tr>\n",
              "    <tr>\n",
              "      <th>2018-12-21</th>\n",
              "      <td>2.347036e+07</td>\n",
              "      <td>-0.010369</td>\n",
              "      <td>1.883786e+06</td>\n",
              "      <td>66.738612</td>\n",
              "      <td>68.679728</td>\n",
              "      <td>66.089400</td>\n",
              "      <td>11076.968965</td>\n",
              "      <td>11395.992407</td>\n",
              "      <td>1.101672</td>\n",
              "      <td>30.110001</td>\n",
              "      <td>...</td>\n",
              "      <td>2.409</td>\n",
              "      <td>-0.04</td>\n",
              "      <td>1.307736e+08</td>\n",
              "      <td>3.072879</td>\n",
              "      <td>1.257212e+08</td>\n",
              "      <td>18.688979</td>\n",
              "      <td>1.566379e+09</td>\n",
              "      <td>0.000007</td>\n",
              "      <td>-0.010479</td>\n",
              "      <td>-0.02181</td>\n",
              "    </tr>\n",
              "    <tr>\n",
              "      <th>2018-12-24</th>\n",
              "      <td>7.596090e+06</td>\n",
              "      <td>-0.040239</td>\n",
              "      <td>1.888364e+06</td>\n",
              "      <td>64.208265</td>\n",
              "      <td>66.537325</td>\n",
              "      <td>64.152997</td>\n",
              "      <td>8901.756413</td>\n",
              "      <td>12131.554525</td>\n",
              "      <td>0.944079</td>\n",
              "      <td>36.070000</td>\n",
              "      <td>...</td>\n",
              "      <td>2.409</td>\n",
              "      <td>-0.04</td>\n",
              "      <td>1.263795e+08</td>\n",
              "      <td>3.072879</td>\n",
              "      <td>1.212486e+08</td>\n",
              "      <td>18.654799</td>\n",
              "      <td>4.877318e+08</td>\n",
              "      <td>0.000083</td>\n",
              "      <td>-0.040349</td>\n",
              "      <td>-0.02561</td>\n",
              "    </tr>\n",
              "    <tr>\n",
              "      <th>2018-12-26</th>\n",
              "      <td>1.292724e+07</td>\n",
              "      <td>0.062713</td>\n",
              "      <td>1.874340e+06</td>\n",
              "      <td>68.235958</td>\n",
              "      <td>68.260304</td>\n",
              "      <td>63.652624</td>\n",
              "      <td>8887.402809</td>\n",
              "      <td>17054.673252</td>\n",
              "      <td>0.715864</td>\n",
              "      <td>30.410000</td>\n",
              "      <td>...</td>\n",
              "      <td>2.409</td>\n",
              "      <td>-0.08</td>\n",
              "      <td>1.324008e+08</td>\n",
              "      <td>3.072879</td>\n",
              "      <td>1.278974e+08</td>\n",
              "      <td>18.701344</td>\n",
              "      <td>8.821027e+08</td>\n",
              "      <td>0.000071</td>\n",
              "      <td>0.062603</td>\n",
              "      <td>0.05049</td>\n",
              "    </tr>\n",
              "    <tr>\n",
              "      <th>2018-12-27</th>\n",
              "      <td>1.189542e+07</td>\n",
              "      <td>0.006472</td>\n",
              "      <td>1.873945e+06</td>\n",
              "      <td>68.997290</td>\n",
              "      <td>69.016614</td>\n",
              "      <td>66.134674</td>\n",
              "      <td>5811.118599</td>\n",
              "      <td>12469.599469</td>\n",
              "      <td>0.656975</td>\n",
              "      <td>29.959999</td>\n",
              "      <td>...</td>\n",
              "      <td>2.409</td>\n",
              "      <td>-0.07</td>\n",
              "      <td>1.337375e+08</td>\n",
              "      <td>3.072879</td>\n",
              "      <td>1.292971e+08</td>\n",
              "      <td>18.711390</td>\n",
              "      <td>8.207516e+08</td>\n",
              "      <td>0.000008</td>\n",
              "      <td>0.006362</td>\n",
              "      <td>0.00769</td>\n",
              "    </tr>\n",
              "    <tr>\n",
              "      <th>2018-12-28</th>\n",
              "      <td>9.846492e+06</td>\n",
              "      <td>-0.008945</td>\n",
              "      <td>1.873197e+06</td>\n",
              "      <td>68.420173</td>\n",
              "      <td>69.738306</td>\n",
              "      <td>67.865446</td>\n",
              "      <td>10260.043185</td>\n",
              "      <td>11810.358035</td>\n",
              "      <td>0.937285</td>\n",
              "      <td>28.340000</td>\n",
              "      <td>...</td>\n",
              "      <td>2.409</td>\n",
              "      <td>-0.07</td>\n",
              "      <td>1.324667e+08</td>\n",
              "      <td>3.072879</td>\n",
              "      <td>1.281645e+08</td>\n",
              "      <td>18.701842</td>\n",
              "      <td>6.736987e+08</td>\n",
              "      <td>0.000013</td>\n",
              "      <td>-0.009055</td>\n",
              "      <td>-0.00041</td>\n",
              "    </tr>\n",
              "  </tbody>\n",
              "</table>\n",
              "<p>5282 rows × 30 columns</p>\n",
              "</div>\n",
              "    <div class=\"colab-df-buttons\">\n",
              "\n",
              "  <div class=\"colab-df-container\">\n",
              "    <button class=\"colab-df-convert\" onclick=\"convertToInteractive('df-1106395c-2557-4bbe-81dd-0e94cec200b0')\"\n",
              "            title=\"Convert this dataframe to an interactive table.\"\n",
              "            style=\"display:none;\">\n",
              "\n",
              "  <svg xmlns=\"http://www.w3.org/2000/svg\" height=\"24px\" viewBox=\"0 -960 960 960\">\n",
              "    <path d=\"M120-120v-720h720v720H120Zm60-500h600v-160H180v160Zm220 220h160v-160H400v160Zm0 220h160v-160H400v160ZM180-400h160v-160H180v160Zm440 0h160v-160H620v160ZM180-180h160v-160H180v160Zm440 0h160v-160H620v160Z\"/>\n",
              "  </svg>\n",
              "    </button>\n",
              "\n",
              "  <style>\n",
              "    .colab-df-container {\n",
              "      display:flex;\n",
              "      gap: 12px;\n",
              "    }\n",
              "\n",
              "    .colab-df-convert {\n",
              "      background-color: #E8F0FE;\n",
              "      border: none;\n",
              "      border-radius: 50%;\n",
              "      cursor: pointer;\n",
              "      display: none;\n",
              "      fill: #1967D2;\n",
              "      height: 32px;\n",
              "      padding: 0 0 0 0;\n",
              "      width: 32px;\n",
              "    }\n",
              "\n",
              "    .colab-df-convert:hover {\n",
              "      background-color: #E2EBFA;\n",
              "      box-shadow: 0px 1px 2px rgba(60, 64, 67, 0.3), 0px 1px 3px 1px rgba(60, 64, 67, 0.15);\n",
              "      fill: #174EA6;\n",
              "    }\n",
              "\n",
              "    .colab-df-buttons div {\n",
              "      margin-bottom: 4px;\n",
              "    }\n",
              "\n",
              "    [theme=dark] .colab-df-convert {\n",
              "      background-color: #3B4455;\n",
              "      fill: #D2E3FC;\n",
              "    }\n",
              "\n",
              "    [theme=dark] .colab-df-convert:hover {\n",
              "      background-color: #434B5C;\n",
              "      box-shadow: 0px 1px 3px 1px rgba(0, 0, 0, 0.15);\n",
              "      filter: drop-shadow(0px 1px 2px rgba(0, 0, 0, 0.3));\n",
              "      fill: #FFFFFF;\n",
              "    }\n",
              "  </style>\n",
              "\n",
              "    <script>\n",
              "      const buttonEl =\n",
              "        document.querySelector('#df-1106395c-2557-4bbe-81dd-0e94cec200b0 button.colab-df-convert');\n",
              "      buttonEl.style.display =\n",
              "        google.colab.kernel.accessAllowed ? 'block' : 'none';\n",
              "\n",
              "      async function convertToInteractive(key) {\n",
              "        const element = document.querySelector('#df-1106395c-2557-4bbe-81dd-0e94cec200b0');\n",
              "        const dataTable =\n",
              "          await google.colab.kernel.invokeFunction('convertToInteractive',\n",
              "                                                    [key], {});\n",
              "        if (!dataTable) return;\n",
              "\n",
              "        const docLinkHtml = 'Like what you see? Visit the ' +\n",
              "          '<a target=\"_blank\" href=https://colab.research.google.com/notebooks/data_table.ipynb>data table notebook</a>'\n",
              "          + ' to learn more about interactive tables.';\n",
              "        element.innerHTML = '';\n",
              "        dataTable['output_type'] = 'display_data';\n",
              "        await google.colab.output.renderOutput(dataTable, element);\n",
              "        const docLink = document.createElement('div');\n",
              "        docLink.innerHTML = docLinkHtml;\n",
              "        element.appendChild(docLink);\n",
              "      }\n",
              "    </script>\n",
              "  </div>\n",
              "\n",
              "\n",
              "    <div id=\"df-674ee2fa-1ad0-4b57-b0bf-d8d0b4a09a27\">\n",
              "      <button class=\"colab-df-quickchart\" onclick=\"quickchart('df-674ee2fa-1ad0-4b57-b0bf-d8d0b4a09a27')\"\n",
              "                title=\"Suggest charts\"\n",
              "                style=\"display:none;\">\n",
              "\n",
              "<svg xmlns=\"http://www.w3.org/2000/svg\" height=\"24px\"viewBox=\"0 0 24 24\"\n",
              "     width=\"24px\">\n",
              "    <g>\n",
              "        <path d=\"M19 3H5c-1.1 0-2 .9-2 2v14c0 1.1.9 2 2 2h14c1.1 0 2-.9 2-2V5c0-1.1-.9-2-2-2zM9 17H7v-7h2v7zm4 0h-2V7h2v10zm4 0h-2v-4h2v4z\"/>\n",
              "    </g>\n",
              "</svg>\n",
              "      </button>\n",
              "\n",
              "<style>\n",
              "  .colab-df-quickchart {\n",
              "      --bg-color: #E8F0FE;\n",
              "      --fill-color: #1967D2;\n",
              "      --hover-bg-color: #E2EBFA;\n",
              "      --hover-fill-color: #174EA6;\n",
              "      --disabled-fill-color: #AAA;\n",
              "      --disabled-bg-color: #DDD;\n",
              "  }\n",
              "\n",
              "  [theme=dark] .colab-df-quickchart {\n",
              "      --bg-color: #3B4455;\n",
              "      --fill-color: #D2E3FC;\n",
              "      --hover-bg-color: #434B5C;\n",
              "      --hover-fill-color: #FFFFFF;\n",
              "      --disabled-bg-color: #3B4455;\n",
              "      --disabled-fill-color: #666;\n",
              "  }\n",
              "\n",
              "  .colab-df-quickchart {\n",
              "    background-color: var(--bg-color);\n",
              "    border: none;\n",
              "    border-radius: 50%;\n",
              "    cursor: pointer;\n",
              "    display: none;\n",
              "    fill: var(--fill-color);\n",
              "    height: 32px;\n",
              "    padding: 0;\n",
              "    width: 32px;\n",
              "  }\n",
              "\n",
              "  .colab-df-quickchart:hover {\n",
              "    background-color: var(--hover-bg-color);\n",
              "    box-shadow: 0 1px 2px rgba(60, 64, 67, 0.3), 0 1px 3px 1px rgba(60, 64, 67, 0.15);\n",
              "    fill: var(--button-hover-fill-color);\n",
              "  }\n",
              "\n",
              "  .colab-df-quickchart-complete:disabled,\n",
              "  .colab-df-quickchart-complete:disabled:hover {\n",
              "    background-color: var(--disabled-bg-color);\n",
              "    fill: var(--disabled-fill-color);\n",
              "    box-shadow: none;\n",
              "  }\n",
              "\n",
              "  .colab-df-spinner {\n",
              "    border: 2px solid var(--fill-color);\n",
              "    border-color: transparent;\n",
              "    border-bottom-color: var(--fill-color);\n",
              "    animation:\n",
              "      spin 1s steps(1) infinite;\n",
              "  }\n",
              "\n",
              "  @keyframes spin {\n",
              "    0% {\n",
              "      border-color: transparent;\n",
              "      border-bottom-color: var(--fill-color);\n",
              "      border-left-color: var(--fill-color);\n",
              "    }\n",
              "    20% {\n",
              "      border-color: transparent;\n",
              "      border-left-color: var(--fill-color);\n",
              "      border-top-color: var(--fill-color);\n",
              "    }\n",
              "    30% {\n",
              "      border-color: transparent;\n",
              "      border-left-color: var(--fill-color);\n",
              "      border-top-color: var(--fill-color);\n",
              "      border-right-color: var(--fill-color);\n",
              "    }\n",
              "    40% {\n",
              "      border-color: transparent;\n",
              "      border-right-color: var(--fill-color);\n",
              "      border-top-color: var(--fill-color);\n",
              "    }\n",
              "    60% {\n",
              "      border-color: transparent;\n",
              "      border-right-color: var(--fill-color);\n",
              "    }\n",
              "    80% {\n",
              "      border-color: transparent;\n",
              "      border-right-color: var(--fill-color);\n",
              "      border-bottom-color: var(--fill-color);\n",
              "    }\n",
              "    90% {\n",
              "      border-color: transparent;\n",
              "      border-bottom-color: var(--fill-color);\n",
              "    }\n",
              "  }\n",
              "</style>\n",
              "\n",
              "      <script>\n",
              "        async function quickchart(key) {\n",
              "          const quickchartButtonEl =\n",
              "            document.querySelector('#' + key + ' button');\n",
              "          quickchartButtonEl.disabled = true;  // To prevent multiple clicks.\n",
              "          quickchartButtonEl.classList.add('colab-df-spinner');\n",
              "          try {\n",
              "            const charts = await google.colab.kernel.invokeFunction(\n",
              "                'suggestCharts', [key], {});\n",
              "          } catch (error) {\n",
              "            console.error('Error during call to suggestCharts:', error);\n",
              "          }\n",
              "          quickchartButtonEl.classList.remove('colab-df-spinner');\n",
              "          quickchartButtonEl.classList.add('colab-df-quickchart-complete');\n",
              "        }\n",
              "        (() => {\n",
              "          let quickchartButtonEl =\n",
              "            document.querySelector('#df-674ee2fa-1ad0-4b57-b0bf-d8d0b4a09a27 button');\n",
              "          quickchartButtonEl.style.display =\n",
              "            google.colab.kernel.accessAllowed ? 'block' : 'none';\n",
              "        })();\n",
              "      </script>\n",
              "    </div>\n",
              "\n",
              "    </div>\n",
              "  </div>\n"
            ],
            "application/vnd.google.colaboratory.intrinsic+json": {
              "type": "dataframe"
            }
          },
          "metadata": {},
          "execution_count": 29
        }
      ]
    },
    {
      "cell_type": "code",
      "source": [
        "features_c4f = ['excess_mkt_ret','smb', 'hml','umd']"
      ],
      "metadata": {
        "id": "ktHCF-yIpE1f"
      },
      "execution_count": 30,
      "outputs": []
    },
    {
      "cell_type": "code",
      "source": [
        "for sector, df in df_dict.items():\n",
        "    model = models.olsmodel(\n",
        "        y='excess_ret',\n",
        "        features=features_c4f,\n",
        "        lags=3,\n",
        "        run_name=f'{sector}_baseline',\n",
        "        fama_french_ver='c4f',\n",
        "        experiment_name='baseline_ols'\n",
        "    )\n",
        "    model.fit(df)"
      ],
      "metadata": {
        "colab": {
          "base_uri": "https://localhost:8080/",
          "height": 567
        },
        "id": "2qtTIVakpINo",
        "outputId": "78c576ef-b5a6-46b2-ccb4-cf6bc0559992"
      },
      "execution_count": 31,
      "outputs": [
        {
          "output_type": "stream",
          "name": "stdout",
          "text": [
            "Experiment 183693595174742464 created\n"
          ]
        },
        {
          "output_type": "stream",
          "name": "stderr",
          "text": [
            "/usr/local/lib/python3.11/dist-packages/pydantic/fields.py:1045: PydanticDeprecatedSince20: `min_items` is deprecated and will be removed, use `min_length` instead. Deprecated in Pydantic V2.0 to be removed in V3.0. See Pydantic V2 Migration Guide at https://errors.pydantic.dev/2.11/migration/\n",
            "  warn('`min_items` is deprecated and will be removed, use `min_length` instead', DeprecationWarning)\n",
            "/usr/local/lib/python3.11/dist-packages/pydantic/fields.py:1045: PydanticDeprecatedSince20: `min_items` is deprecated and will be removed, use `min_length` instead. Deprecated in Pydantic V2.0 to be removed in V3.0. See Pydantic V2 Migration Guide at https://errors.pydantic.dev/2.11/migration/\n",
            "  warn('`min_items` is deprecated and will be removed, use `min_length` instead', DeprecationWarning)\n",
            "/usr/local/lib/python3.11/dist-packages/pydantic/fields.py:1045: PydanticDeprecatedSince20: `min_items` is deprecated and will be removed, use `min_length` instead. Deprecated in Pydantic V2.0 to be removed in V3.0. See Pydantic V2 Migration Guide at https://errors.pydantic.dev/2.11/migration/\n",
            "  warn('`min_items` is deprecated and will be removed, use `min_length` instead', DeprecationWarning)\n"
          ]
        },
        {
          "output_type": "error",
          "ename": "OSError",
          "evalue": "'apa_custom.mplstyle' is not a valid package style, path of style file, URL of style file, or library style name (library styles are listed in `style.available`)",
          "traceback": [
            "\u001b[0;31m---------------------------------------------------------------------------\u001b[0m",
            "\u001b[0;31mFileNotFoundError\u001b[0m                         Traceback (most recent call last)",
            "\u001b[0;32m/usr/local/lib/python3.11/dist-packages/matplotlib/style/core.py\u001b[0m in \u001b[0;36muse\u001b[0;34m(style)\u001b[0m\n\u001b[1;32m    128\u001b[0m             \u001b[0;32mtry\u001b[0m\u001b[0;34m:\u001b[0m\u001b[0;34m\u001b[0m\u001b[0;34m\u001b[0m\u001b[0m\n\u001b[0;32m--> 129\u001b[0;31m                 \u001b[0mstyle\u001b[0m \u001b[0;34m=\u001b[0m \u001b[0m_rc_params_in_file\u001b[0m\u001b[0;34m(\u001b[0m\u001b[0mstyle\u001b[0m\u001b[0;34m)\u001b[0m\u001b[0;34m\u001b[0m\u001b[0;34m\u001b[0m\u001b[0m\n\u001b[0m\u001b[1;32m    130\u001b[0m             \u001b[0;32mexcept\u001b[0m \u001b[0mOSError\u001b[0m \u001b[0;32mas\u001b[0m \u001b[0merr\u001b[0m\u001b[0;34m:\u001b[0m\u001b[0;34m\u001b[0m\u001b[0;34m\u001b[0m\u001b[0m\n",
            "\u001b[0;32m/usr/local/lib/python3.11/dist-packages/matplotlib/__init__.py\u001b[0m in \u001b[0;36m_rc_params_in_file\u001b[0;34m(fname, transform, fail_on_error)\u001b[0m\n\u001b[1;32m    902\u001b[0m     \u001b[0mrc_temp\u001b[0m \u001b[0;34m=\u001b[0m \u001b[0;34m{\u001b[0m\u001b[0;34m}\u001b[0m\u001b[0;34m\u001b[0m\u001b[0;34m\u001b[0m\u001b[0m\n\u001b[0;32m--> 903\u001b[0;31m     \u001b[0;32mwith\u001b[0m \u001b[0m_open_file_or_url\u001b[0m\u001b[0;34m(\u001b[0m\u001b[0mfname\u001b[0m\u001b[0;34m)\u001b[0m \u001b[0;32mas\u001b[0m \u001b[0mfd\u001b[0m\u001b[0;34m:\u001b[0m\u001b[0;34m\u001b[0m\u001b[0;34m\u001b[0m\u001b[0m\n\u001b[0m\u001b[1;32m    904\u001b[0m         \u001b[0;32mtry\u001b[0m\u001b[0;34m:\u001b[0m\u001b[0;34m\u001b[0m\u001b[0;34m\u001b[0m\u001b[0m\n",
            "\u001b[0;32m/usr/lib/python3.11/contextlib.py\u001b[0m in \u001b[0;36m__enter__\u001b[0;34m(self)\u001b[0m\n\u001b[1;32m    136\u001b[0m         \u001b[0;32mtry\u001b[0m\u001b[0;34m:\u001b[0m\u001b[0;34m\u001b[0m\u001b[0;34m\u001b[0m\u001b[0m\n\u001b[0;32m--> 137\u001b[0;31m             \u001b[0;32mreturn\u001b[0m \u001b[0mnext\u001b[0m\u001b[0;34m(\u001b[0m\u001b[0mself\u001b[0m\u001b[0;34m.\u001b[0m\u001b[0mgen\u001b[0m\u001b[0;34m)\u001b[0m\u001b[0;34m\u001b[0m\u001b[0;34m\u001b[0m\u001b[0m\n\u001b[0m\u001b[1;32m    138\u001b[0m         \u001b[0;32mexcept\u001b[0m \u001b[0mStopIteration\u001b[0m\u001b[0;34m:\u001b[0m\u001b[0;34m\u001b[0m\u001b[0;34m\u001b[0m\u001b[0m\n",
            "\u001b[0;32m/usr/local/lib/python3.11/dist-packages/matplotlib/__init__.py\u001b[0m in \u001b[0;36m_open_file_or_url\u001b[0;34m(fname)\u001b[0m\n\u001b[1;32m    879\u001b[0m         \u001b[0mfname\u001b[0m \u001b[0;34m=\u001b[0m \u001b[0mos\u001b[0m\u001b[0;34m.\u001b[0m\u001b[0mpath\u001b[0m\u001b[0;34m.\u001b[0m\u001b[0mexpanduser\u001b[0m\u001b[0;34m(\u001b[0m\u001b[0mfname\u001b[0m\u001b[0;34m)\u001b[0m\u001b[0;34m\u001b[0m\u001b[0;34m\u001b[0m\u001b[0m\n\u001b[0;32m--> 880\u001b[0;31m         \u001b[0;32mwith\u001b[0m \u001b[0mopen\u001b[0m\u001b[0;34m(\u001b[0m\u001b[0mfname\u001b[0m\u001b[0;34m,\u001b[0m \u001b[0mencoding\u001b[0m\u001b[0;34m=\u001b[0m\u001b[0;34m'utf-8'\u001b[0m\u001b[0;34m)\u001b[0m \u001b[0;32mas\u001b[0m \u001b[0mf\u001b[0m\u001b[0;34m:\u001b[0m\u001b[0;34m\u001b[0m\u001b[0;34m\u001b[0m\u001b[0m\n\u001b[0m\u001b[1;32m    881\u001b[0m             \u001b[0;32myield\u001b[0m \u001b[0mf\u001b[0m\u001b[0;34m\u001b[0m\u001b[0;34m\u001b[0m\u001b[0m\n",
            "\u001b[0;31mFileNotFoundError\u001b[0m: [Errno 2] No such file or directory: 'apa_custom.mplstyle'",
            "\nThe above exception was the direct cause of the following exception:\n",
            "\u001b[0;31mOSError\u001b[0m                                   Traceback (most recent call last)",
            "\u001b[0;32m<ipython-input-31-92259a536f6b>\u001b[0m in \u001b[0;36m<cell line: 0>\u001b[0;34m()\u001b[0m\n\u001b[1;32m      8\u001b[0m         \u001b[0mexperiment_name\u001b[0m\u001b[0;34m=\u001b[0m\u001b[0;34m'baseline_ols'\u001b[0m\u001b[0;34m\u001b[0m\u001b[0;34m\u001b[0m\u001b[0m\n\u001b[1;32m      9\u001b[0m     )\n\u001b[0;32m---> 10\u001b[0;31m     \u001b[0mmodel\u001b[0m\u001b[0;34m.\u001b[0m\u001b[0mfit\u001b[0m\u001b[0;34m(\u001b[0m\u001b[0mdf\u001b[0m\u001b[0;34m)\u001b[0m\u001b[0;34m\u001b[0m\u001b[0;34m\u001b[0m\u001b[0m\n\u001b[0m",
            "\u001b[0;32m/content/drive/MyDrive/masters_thesis/msc_thesis/py/models.py\u001b[0m in \u001b[0;36mfit\u001b[0;34m(self, df)\u001b[0m\n\u001b[1;32m     97\u001b[0m         \u001b[0mX_fit\u001b[0m\u001b[0;34m,\u001b[0m\u001b[0mX_hold\u001b[0m\u001b[0;34m,\u001b[0m\u001b[0my_fit\u001b[0m\u001b[0;34m,\u001b[0m\u001b[0my_hold\u001b[0m \u001b[0;34m=\u001b[0m \u001b[0mself\u001b[0m\u001b[0;34m.\u001b[0m\u001b[0m_var_prep\u001b[0m\u001b[0;34m(\u001b[0m\u001b[0mdf\u001b[0m \u001b[0;34m=\u001b[0m \u001b[0mdf\u001b[0m\u001b[0;34m)\u001b[0m \u001b[0;31m# Renamed variables\u001b[0m\u001b[0;34m\u001b[0m\u001b[0;34m\u001b[0m\u001b[0m\n\u001b[1;32m     98\u001b[0m         \u001b[0mself\u001b[0m\u001b[0;34m.\u001b[0m\u001b[0mmodel_\u001b[0m \u001b[0;34m=\u001b[0m \u001b[0mself\u001b[0m\u001b[0;34m.\u001b[0m\u001b[0mtrain_\u001b[0m\u001b[0;34m(\u001b[0m\u001b[0mX_fit\u001b[0m\u001b[0;34m=\u001b[0m \u001b[0mX_fit\u001b[0m\u001b[0;34m,\u001b[0m\u001b[0mX_hold\u001b[0m \u001b[0;34m=\u001b[0m \u001b[0mX_hold\u001b[0m\u001b[0;34m,\u001b[0m\u001b[0my_fit\u001b[0m \u001b[0;34m=\u001b[0m\u001b[0my_fit\u001b[0m\u001b[0;34m,\u001b[0m\u001b[0my_hold\u001b[0m \u001b[0;34m=\u001b[0m \u001b[0my_hold\u001b[0m\u001b[0;34m)\u001b[0m\u001b[0;34m\u001b[0m\u001b[0;34m\u001b[0m\u001b[0m\n\u001b[0;32m---> 99\u001b[0;31m         \u001b[0mself\u001b[0m\u001b[0;34m.\u001b[0m\u001b[0m_log_run\u001b[0m\u001b[0;34m(\u001b[0m\u001b[0mX_fit\u001b[0m\u001b[0;34m,\u001b[0m\u001b[0mX_hold\u001b[0m\u001b[0;34m,\u001b[0m\u001b[0my_fit\u001b[0m\u001b[0;34m,\u001b[0m\u001b[0my_hold\u001b[0m\u001b[0;34m,\u001b[0m\u001b[0mself\u001b[0m\u001b[0;34m.\u001b[0m\u001b[0mrun_name\u001b[0m\u001b[0;34m)\u001b[0m\u001b[0;34m\u001b[0m\u001b[0;34m\u001b[0m\u001b[0m\n\u001b[0m\u001b[1;32m    100\u001b[0m \u001b[0;34m\u001b[0m\u001b[0m\n\u001b[1;32m    101\u001b[0m     \u001b[0;31m#------------abstracts--------------------------\u001b[0m\u001b[0;34m\u001b[0m\u001b[0;34m\u001b[0m\u001b[0m\n",
            "\u001b[0;32m/content/drive/MyDrive/masters_thesis/msc_thesis/py/models.py\u001b[0m in \u001b[0;36m_log_run\u001b[0;34m(self, X_fit, X_hold, y_fit, y_hold, run_name)\u001b[0m\n\u001b[1;32m    154\u001b[0m             \u001b[0mmlflow\u001b[0m\u001b[0;34m.\u001b[0m\u001b[0mlog_params\u001b[0m\u001b[0;34m(\u001b[0m\u001b[0mparams\u001b[0m\u001b[0;34m)\u001b[0m\u001b[0;34m\u001b[0m\u001b[0;34m\u001b[0m\u001b[0m\n\u001b[1;32m    155\u001b[0m             \u001b[0mmlflow\u001b[0m\u001b[0;34m.\u001b[0m\u001b[0mset_tag\u001b[0m\u001b[0;34m(\u001b[0m\u001b[0;34m\"fama_french_ver\"\u001b[0m\u001b[0;34m,\u001b[0m \u001b[0mself\u001b[0m\u001b[0;34m.\u001b[0m\u001b[0mfama_french_ver\u001b[0m\u001b[0;34m)\u001b[0m\u001b[0;34m\u001b[0m\u001b[0;34m\u001b[0m\u001b[0m\n\u001b[0;32m--> 156\u001b[0;31m             \u001b[0mself\u001b[0m\u001b[0;34m.\u001b[0m\u001b[0m_log_metrics\u001b[0m\u001b[0;34m(\u001b[0m\u001b[0mX_fit\u001b[0m\u001b[0;34m,\u001b[0m\u001b[0mX_hold\u001b[0m\u001b[0;34m,\u001b[0m\u001b[0my_fit\u001b[0m\u001b[0;34m,\u001b[0m\u001b[0my_hold\u001b[0m\u001b[0;34m,\u001b[0m\u001b[0mrun_name\u001b[0m\u001b[0;34m)\u001b[0m\u001b[0;34m\u001b[0m\u001b[0;34m\u001b[0m\u001b[0m\n\u001b[0m\u001b[1;32m    157\u001b[0m \u001b[0;34m\u001b[0m\u001b[0m\n\u001b[1;32m    158\u001b[0m     \u001b[0;32mdef\u001b[0m \u001b[0mplot_residuals\u001b[0m\u001b[0;34m(\u001b[0m\u001b[0mself\u001b[0m\u001b[0;34m,\u001b[0m \u001b[0mfitted_values\u001b[0m\u001b[0;34m,\u001b[0m \u001b[0mresiduals\u001b[0m\u001b[0;34m,\u001b[0m \u001b[0mrun_name\u001b[0m\u001b[0;34m,\u001b[0m\u001b[0msample_or_hold\u001b[0m\u001b[0;34m)\u001b[0m\u001b[0;34m:\u001b[0m\u001b[0;34m\u001b[0m\u001b[0;34m\u001b[0m\u001b[0m\n",
            "\u001b[0;32m/content/drive/MyDrive/masters_thesis/msc_thesis/py/models.py\u001b[0m in \u001b[0;36m_log_metrics\u001b[0;34m(self, X_fit, X_hold, y_fit, y_hold, run_name)\u001b[0m\n\u001b[1;32m    257\u001b[0m \u001b[0;34m\u001b[0m\u001b[0m\n\u001b[1;32m    258\u001b[0m         \u001b[0;31m#----------Plotting-----------\u001b[0m\u001b[0;34m\u001b[0m\u001b[0;34m\u001b[0m\u001b[0m\n\u001b[0;32m--> 259\u001b[0;31m         \u001b[0mself\u001b[0m\u001b[0;34m.\u001b[0m\u001b[0mplot_residuals\u001b[0m\u001b[0;34m(\u001b[0m\u001b[0mself\u001b[0m\u001b[0;34m.\u001b[0m\u001b[0mmodel_\u001b[0m\u001b[0;34m.\u001b[0m\u001b[0mfittedvalues\u001b[0m\u001b[0;34m,\u001b[0m \u001b[0mself\u001b[0m\u001b[0;34m.\u001b[0m\u001b[0mmodel_\u001b[0m\u001b[0;34m.\u001b[0m\u001b[0mresid\u001b[0m\u001b[0;34m,\u001b[0m \u001b[0mrun_name\u001b[0m\u001b[0;34m,\u001b[0m \u001b[0msample_or_hold\u001b[0m\u001b[0;34m=\u001b[0m \u001b[0;34m'sample'\u001b[0m\u001b[0;34m)\u001b[0m\u001b[0;31m#\"Sample:Residuals vs Fitted Values\"\u001b[0m\u001b[0;34m\u001b[0m\u001b[0;34m\u001b[0m\u001b[0m\n\u001b[0m\u001b[1;32m    260\u001b[0m         \u001b[0mself\u001b[0m\u001b[0;34m.\u001b[0m\u001b[0mplot_residuals\u001b[0m\u001b[0;34m(\u001b[0m\u001b[0my_pred_hold\u001b[0m\u001b[0;34m,\u001b[0m \u001b[0mresid_hold\u001b[0m\u001b[0;34m,\u001b[0m \u001b[0mrun_name\u001b[0m\u001b[0;34m,\u001b[0m \u001b[0msample_or_hold\u001b[0m\u001b[0;34m=\u001b[0m \u001b[0;34m'hold'\u001b[0m\u001b[0;34m)\u001b[0m\u001b[0;31m#\"Hold out: Residuals vs Fitted Values\"\u001b[0m\u001b[0;34m\u001b[0m\u001b[0;34m\u001b[0m\u001b[0m\n\u001b[1;32m    261\u001b[0m         \u001b[0;31m# full model summary\u001b[0m\u001b[0;34m\u001b[0m\u001b[0;34m\u001b[0m\u001b[0m\n",
            "\u001b[0;32m/content/drive/MyDrive/masters_thesis/msc_thesis/py/models.py\u001b[0m in \u001b[0;36mplot_residuals\u001b[0;34m(self, fitted_values, residuals, run_name, sample_or_hold)\u001b[0m\n\u001b[1;32m    158\u001b[0m     \u001b[0;32mdef\u001b[0m \u001b[0mplot_residuals\u001b[0m\u001b[0;34m(\u001b[0m\u001b[0mself\u001b[0m\u001b[0;34m,\u001b[0m \u001b[0mfitted_values\u001b[0m\u001b[0;34m,\u001b[0m \u001b[0mresiduals\u001b[0m\u001b[0;34m,\u001b[0m \u001b[0mrun_name\u001b[0m\u001b[0;34m,\u001b[0m\u001b[0msample_or_hold\u001b[0m\u001b[0;34m)\u001b[0m\u001b[0;34m:\u001b[0m\u001b[0;34m\u001b[0m\u001b[0;34m\u001b[0m\u001b[0m\n\u001b[1;32m    159\u001b[0m         \u001b[0;34m\"\"\"Plot residuals vs fitted values and save to MLflow\"\"\"\u001b[0m\u001b[0;34m\u001b[0m\u001b[0;34m\u001b[0m\u001b[0m\n\u001b[0;32m--> 160\u001b[0;31m         \u001b[0mplt\u001b[0m\u001b[0;34m.\u001b[0m\u001b[0mstyle\u001b[0m\u001b[0;34m.\u001b[0m\u001b[0muse\u001b[0m\u001b[0;34m(\u001b[0m\u001b[0;34m[\u001b[0m\u001b[0;34m'science'\u001b[0m\u001b[0;34m,\u001b[0m\u001b[0;34m'ieee'\u001b[0m\u001b[0;34m,\u001b[0m\u001b[0;34m'apa_custom.mplstyle'\u001b[0m\u001b[0;34m]\u001b[0m\u001b[0;34m)\u001b[0m\u001b[0;34m\u001b[0m\u001b[0;34m\u001b[0m\u001b[0m\n\u001b[0m\u001b[1;32m    161\u001b[0m         \u001b[0mplt\u001b[0m\u001b[0;34m.\u001b[0m\u001b[0mfigure\u001b[0m\u001b[0;34m(\u001b[0m\u001b[0mfigsize\u001b[0m\u001b[0;34m=\u001b[0m\u001b[0;34m(\u001b[0m\u001b[0;36m10\u001b[0m\u001b[0;34m,\u001b[0m \u001b[0;36m6\u001b[0m\u001b[0;34m)\u001b[0m\u001b[0;34m)\u001b[0m\u001b[0;34m\u001b[0m\u001b[0;34m\u001b[0m\u001b[0m\n\u001b[1;32m    162\u001b[0m         \u001b[0mplt\u001b[0m\u001b[0;34m.\u001b[0m\u001b[0mscatter\u001b[0m\u001b[0;34m(\u001b[0m\u001b[0mfitted_values\u001b[0m\u001b[0;34m,\u001b[0m \u001b[0mresiduals\u001b[0m\u001b[0;34m,\u001b[0m \u001b[0malpha\u001b[0m\u001b[0;34m=\u001b[0m\u001b[0;36m0.5\u001b[0m\u001b[0;34m)\u001b[0m\u001b[0;34m\u001b[0m\u001b[0;34m\u001b[0m\u001b[0m\n",
            "\u001b[0;32m/usr/local/lib/python3.11/dist-packages/matplotlib/style/core.py\u001b[0m in \u001b[0;36muse\u001b[0;34m(style)\u001b[0m\n\u001b[1;32m    129\u001b[0m                 \u001b[0mstyle\u001b[0m \u001b[0;34m=\u001b[0m \u001b[0m_rc_params_in_file\u001b[0m\u001b[0;34m(\u001b[0m\u001b[0mstyle\u001b[0m\u001b[0;34m)\u001b[0m\u001b[0;34m\u001b[0m\u001b[0;34m\u001b[0m\u001b[0m\n\u001b[1;32m    130\u001b[0m             \u001b[0;32mexcept\u001b[0m \u001b[0mOSError\u001b[0m \u001b[0;32mas\u001b[0m \u001b[0merr\u001b[0m\u001b[0;34m:\u001b[0m\u001b[0;34m\u001b[0m\u001b[0;34m\u001b[0m\u001b[0m\n\u001b[0;32m--> 131\u001b[0;31m                 raise OSError(\n\u001b[0m\u001b[1;32m    132\u001b[0m                     \u001b[0;34mf\"{style!r} is not a valid package style, path of style \"\u001b[0m\u001b[0;34m\u001b[0m\u001b[0;34m\u001b[0m\u001b[0m\n\u001b[1;32m    133\u001b[0m                     \u001b[0;34mf\"file, URL of style file, or library style name (library \"\u001b[0m\u001b[0;34m\u001b[0m\u001b[0;34m\u001b[0m\u001b[0m\n",
            "\u001b[0;31mOSError\u001b[0m: 'apa_custom.mplstyle' is not a valid package style, path of style file, URL of style file, or library style name (library styles are listed in `style.available`)"
          ]
        }
      ]
    }
  ]
}