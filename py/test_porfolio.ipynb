{
 "cells": [
  {
   "cell_type": "markdown",
   "id": "299fe09f",
   "metadata": {},
   "source": [
    "# Portfolio trade"
   ]
  },
  {
   "cell_type": "code",
   "execution_count": null,
   "id": "fa372f32",
   "metadata": {},
   "outputs": [],
   "source": [
    "%load_ext autoreload\n",
    "%autoreload 2\n",
    "import pandas as pd\n",
    "import portfolio_trade as pt"
   ]
  },
  {
   "cell_type": "code",
   "execution_count": null,
   "id": "eadad3d3",
   "metadata": {},
   "outputs": [],
   "source": [
    "!pwd"
   ]
  },
  {
   "cell_type": "code",
   "execution_count": null,
   "id": "0f7b07ad",
   "metadata": {},
   "outputs": [],
   "source": [
    "%cd .."
   ]
  },
  {
   "cell_type": "code",
   "execution_count": null,
   "id": "bf9c9741",
   "metadata": {},
   "outputs": [],
   "source": [
    "matching_df = pt.matching_df(sector='15').fit()"
   ]
  },
  {
   "cell_type": "code",
   "execution_count": null,
   "id": "706e1abb",
   "metadata": {},
   "outputs": [],
   "source": [
    "matching_df"
   ]
  },
  {
   "cell_type": "code",
   "execution_count": null,
   "id": "4b38a100",
   "metadata": {},
   "outputs": [],
   "source": [
    "# Filter for year 2018\n",
    "df_2018 = matching_df[matching_df.index.year == 2018]\n",
    "\n",
    "# List of columns to compare\n",
    "cols = ['rf_enhanced_signal', 'rf_base_signal', 'ols_base_signal', 'ols_enhanced_signal']\n",
    "\n",
    "# Calculate percentage of each column that is different from ols_base_signal\n",
    "percent_diff = {}\n",
    "for col in cols:\n",
    "    if col != 'ols_base_signal':\n",
    "        # Only compare where both are not NaN\n",
    "        valid = df_2018[[col, 'ols_base_signal']].dropna()\n",
    "        diff = (valid[col] != valid['ols_base_signal']).mean() * 100\n",
    "        percent_diff[col] = diff\n",
    "\n",
    "percent_diff"
   ]
  },
  {
   "cell_type": "code",
   "execution_count": null,
   "id": "b58b06e3",
   "metadata": {},
   "outputs": [],
   "source": [
    "all_df_in_dict, all_df_in_dict_2018 = pt.weights().collect_matched_df()"
   ]
  },
  {
   "cell_type": "code",
   "execution_count": null,
   "id": "c1d93c6e",
   "metadata": {},
   "outputs": [],
   "source": [
    "all_df_in_dict_2018['10']"
   ]
  },
  {
   "cell_type": "code",
   "execution_count": null,
   "id": "8d95709f",
   "metadata": {},
   "outputs": [],
   "source": [
    "sect_sig_dict , df_index_list, time_t_sig_allmodelspec = pt.weights().fit()"
   ]
  },
  {
   "cell_type": "code",
   "execution_count": null,
   "id": "f042faf1",
   "metadata": {},
   "outputs": [],
   "source": [
    "sect_sig_dict"
   ]
  },
  {
   "cell_type": "code",
   "execution_count": null,
   "id": "e87aa041",
   "metadata": {},
   "outputs": [],
   "source": [
    "wei = pt.weights().init_w()"
   ]
  },
  {
   "cell_type": "code",
   "execution_count": null,
   "id": "99458176",
   "metadata": {},
   "outputs": [],
   "source": [
    "wei"
   ]
  },
  {
   "cell_type": "code",
   "execution_count": null,
   "id": "b7d19a7d",
   "metadata": {},
   "outputs": [],
   "source": [
    "get_signals_at_time = pt.prep_weights().get_signals_at_time(0)"
   ]
  },
  {
   "cell_type": "code",
   "execution_count": null,
   "id": "4de1fe78",
   "metadata": {},
   "outputs": [],
   "source": [
    "get_signals_at_time"
   ]
  },
  {
   "cell_type": "code",
   "execution_count": null,
   "id": "e41cb110",
   "metadata": {},
   "outputs": [],
   "source": [
    "get_signals_all_models_at_time= pt.prep_weights().get_signals_all_models_at_time(0)"
   ]
  },
  {
   "cell_type": "code",
   "execution_count": null,
   "id": "345190d0",
   "metadata": {},
   "outputs": [],
   "source": [
    "get_signals_all_models_at_time"
   ]
  },
  {
   "cell_type": "code",
   "execution_count": null,
   "id": "86b0ae5a",
   "metadata": {},
   "outputs": [],
   "source": [
    "weights"
   ]
  },
  {
   "cell_type": "code",
   "execution_count": null,
   "id": "01fa73b4",
   "metadata": {},
   "outputs": [],
   "source": [
    "test_weight = pt.weights()"
   ]
  },
  {
   "cell_type": "code",
   "execution_count": null,
   "id": "7e5c3d21",
   "metadata": {},
   "outputs": [],
   "source": [
    "test_weight.calc_weights()"
   ]
  },
  {
   "cell_type": "code",
   "execution_count": null,
   "id": "2a1b03c5",
   "metadata": {},
   "outputs": [],
   "source": [
    "from pathlib import Path\n",
    "import pandas as pd\n",
    "data_dir = Path('data')\n",
    "print(f\"Data directory: {data_dir}\")\n",
    "df_dict = {\n",
    "    file.stem.replace(\"sector_\",\"\") : pd.read_parquet(file)\n",
    "    for file in data_dir.glob(\"sector_*.parquet\")\n",
    "}"
   ]
  },
  {
   "cell_type": "code",
   "execution_count": null,
   "id": "331b222f",
   "metadata": {},
   "outputs": [],
   "source": [
    "df_dict['10']"
   ]
  },
  {
   "cell_type": "code",
   "execution_count": null,
   "id": "ac5419b3",
   "metadata": {},
   "outputs": [],
   "source": [
    "dataframes = pt.weighted_ret(df_dict).calc_weighted_ret()"
   ]
  },
  {
   "cell_type": "code",
   "execution_count": null,
   "id": "4762e851",
   "metadata": {},
   "outputs": [],
   "source": [
    "dataframes['60']"
   ]
  },
  {
   "cell_type": "code",
   "execution_count": null,
   "id": "81b500b8",
   "metadata": {},
   "outputs": [],
   "source": [
    "weighted_portfolio_returns = pt.weighted_portfolio_returns(weight_mode = 'unconstrained')._weighted_portfolios()"
   ]
  },
  {
   "cell_type": "code",
   "execution_count": null,
   "id": "e983fa64",
   "metadata": {},
   "outputs": [],
   "source": [
    "weighted_portfolio_returns[2]"
   ]
  },
  {
   "cell_type": "code",
   "execution_count": null,
   "id": "b27f5664",
   "metadata": {},
   "outputs": [],
   "source": [
    "import numpy as np\n",
    "\n",
    "# 1. Your list of daily simple returns, e.g. 1% gain, -0.5% loss, etc.\n",
    "daily_returns = [0.010, -0.005, 0.002, ...]  \n",
    "\n",
    "# 2. Choose starting capital:\n",
    "initial_capital = 100  # e.g. €1 000 000, or set to 1 for % returns\n",
    "\n",
    "# 3. Compute cumulative growth factor:\n",
    "growth_factors = [1 + r for r in weighted_portfolio_returns[2]]  \n",
    "cumulative_growth = np.prod(growth_factors)\n",
    "\n",
    "# 4a. Final capital:\n",
    "final_capital = initial_capital * cumulative_growth\n",
    "\n",
    "# 4b. Total P&L:\n",
    "total_pnl = final_capital - initial_capital\n",
    "\n",
    "# 4c. Total return (in %):\n",
    "total_return_pct = (final_capital / initial_capital-1) * 100\n",
    "\n",
    "print(f\"Final capital: €{final_capital:,.2f}\")\n",
    "print(f\"Total P&L:     €{total_pnl:,.2f}\")\n",
    "print(f\"Total return:  {total_return_pct:.2f}%\")\n"
   ]
  }
 ],
 "metadata": {
  "kernelspec": {
   "display_name": "mscthesis",
   "language": "python",
   "name": "python3"
  },
  "language_info": {
   "codemirror_mode": {
    "name": "ipython",
    "version": 3
   },
   "file_extension": ".py",
   "mimetype": "text/x-python",
   "name": "python",
   "nbconvert_exporter": "python",
   "pygments_lexer": "ipython3",
   "version": "3.12.2"
  }
 },
 "nbformat": 4,
 "nbformat_minor": 5
}
