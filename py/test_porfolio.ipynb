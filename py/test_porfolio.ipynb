{
 "cells": [
  {
   "cell_type": "markdown",
   "id": "299fe09f",
   "metadata": {},
   "source": [
    "# Portfolio trade"
   ]
  },
  {
   "cell_type": "code",
   "execution_count": 11,
   "id": "fa372f32",
   "metadata": {},
   "outputs": [
    {
     "name": "stdout",
     "output_type": "stream",
     "text": [
      "The autoreload extension is already loaded. To reload it, use:\n",
      "  %reload_ext autoreload\n"
     ]
    }
   ],
   "source": [
    "%load_ext autoreload\n",
    "%autoreload 2\n",
    "import pandas as pd\n",
    "import portfolio_trade as pt"
   ]
  },
  {
   "cell_type": "code",
   "execution_count": null,
   "id": "eadad3d3",
   "metadata": {},
   "outputs": [],
   "source": [
    "!pwd"
   ]
  },
  {
   "cell_type": "code",
   "execution_count": 12,
   "id": "0f7b07ad",
   "metadata": {},
   "outputs": [
    {
     "name": "stdout",
     "output_type": "stream",
     "text": [
      "/Users/minhquangngo/Documents/vsc/erasmus\n"
     ]
    }
   ],
   "source": [
    "%cd .."
   ]
  },
  {
   "cell_type": "code",
   "execution_count": 13,
   "id": "bf9c9741",
   "metadata": {},
   "outputs": [
    {
     "name": "stdout",
     "output_type": "stream",
     "text": [
      "Error reading mlruns directory: [Errno 2] No such file or directory: 'mlruns'\n",
      "Experiments found: []\n",
      "Error reading mlruns directory: [Errno 2] No such file or directory: 'py/mlruns'\n",
      "Experiments found: []\n",
      "Data directory: data\n"
     ]
    },
    {
     "ename": "KeyError",
     "evalue": "'15'",
     "output_type": "error",
     "traceback": [
      "\u001b[31m---------------------------------------------------------------------------\u001b[39m",
      "\u001b[31mKeyError\u001b[39m                                  Traceback (most recent call last)",
      "\u001b[36mCell\u001b[39m\u001b[36m \u001b[39m\u001b[32mIn[13]\u001b[39m\u001b[32m, line 1\u001b[39m\n\u001b[32m----> \u001b[39m\u001b[32m1\u001b[39m matching_df = \u001b[43mpt\u001b[49m\u001b[43m.\u001b[49m\u001b[43mmatching_df\u001b[49m\u001b[43m(\u001b[49m\u001b[43msector\u001b[49m\u001b[43m=\u001b[49m\u001b[33;43m'\u001b[39;49m\u001b[33;43m15\u001b[39;49m\u001b[33;43m'\u001b[39;49m\u001b[43m)\u001b[49m\u001b[43m.\u001b[49m\u001b[43mfit\u001b[49m\u001b[43m(\u001b[49m\u001b[43m)\u001b[49m\n",
      "\u001b[36mFile \u001b[39m\u001b[32m~/Documents/vsc/erasmus/msc_thesis/py/portfolio_trade.py:280\u001b[39m, in \u001b[36mfit\u001b[39m\u001b[34m(self)\u001b[39m\n\u001b[32m    272\u001b[39m \u001b[38;5;28;01mdef\u001b[39;00m\u001b[38;5;250m \u001b[39m\u001b[34mget_signals_all_models_at_time\u001b[39m(\u001b[38;5;28mself\u001b[39m, time_index: \u001b[38;5;28mint\u001b[39m):\n\u001b[32m    273\u001b[39m \u001b[38;5;250m    \u001b[39m\u001b[33;03m\"\"\"Return signals for *all* model specifications at a given time.\u001b[39;00m\n\u001b[32m    274\u001b[39m \n\u001b[32m    275\u001b[39m \u001b[33;03m    The output structure is a list whose *i*-th element is a dictionary\u001b[39;00m\n\u001b[32m    276\u001b[39m \u001b[33;03m    mapping sector names to the signal list produced by model specification\u001b[39;00m\n\u001b[32m    277\u001b[39m \u001b[33;03m    *i* at ``time_index``.\u001b[39;00m\n\u001b[32m    278\u001b[39m \n\u001b[32m    279\u001b[39m \u001b[33;03m    Example (2 sectors, 2 model specifications)::\u001b[39;00m\n\u001b[32m--> \u001b[39m\u001b[32m280\u001b[39m \n\u001b[32m    281\u001b[39m \u001b[33;03m        [\u001b[39;00m\n\u001b[32m    282\u001b[39m \u001b[33;03m            {\"sector1\": [0, 1], \"sector2\": [1, 0]},\u001b[39;00m\n\u001b[32m    283\u001b[39m \u001b[33;03m            {\"sector1\": [1, 0], \"sector2\": [0, 1]}\u001b[39;00m\n\u001b[32m    284\u001b[39m \u001b[33;03m        ]\u001b[39;00m\n\u001b[32m    285\u001b[39m \u001b[33;03m    \"\"\"\u001b[39;00m\n\u001b[32m    286\u001b[39m     signals_at_time = \u001b[38;5;28mself\u001b[39m.get_signals_at_time(time_index)\n\u001b[32m    287\u001b[39m     \u001b[38;5;28;01mif\u001b[39;00m \u001b[38;5;129;01mnot\u001b[39;00m signals_at_time:\n",
      "\u001b[36mFile \u001b[39m\u001b[32m~/Documents/vsc/erasmus/msc_thesis/py/portfolio_trade.py:357\u001b[39m, in \u001b[36m_load_org_df\u001b[39m\u001b[34m(self)\u001b[39m\n\u001b[32m    355\u001b[39m \u001b[38;5;66;03m# Find all matching signal files\u001b[39;00m\n\u001b[32m    356\u001b[39m signal_files = glob.glob(signal_csv_path)\n\u001b[32m--> \u001b[39m\u001b[32m357\u001b[39m \u001b[38;5;28;01mif\u001b[39;00m signal_files:\n\u001b[32m    358\u001b[39m     \u001b[38;5;66;03m# Load the most recent signal file\u001b[39;00m\n\u001b[32m    359\u001b[39m     signal_df = pd.read_csv(signal_files[-\u001b[32m1\u001b[39m])\n\u001b[32m    360\u001b[39m     \u001b[38;5;66;03m# Convert first column to datetime index\u001b[39;00m\n",
      "\u001b[31mKeyError\u001b[39m: '15'"
     ]
    }
   ],
   "source": [
    "matching_df = pt.matching_df(sector='15').fit()"
   ]
  },
  {
   "cell_type": "code",
   "execution_count": null,
   "id": "706e1abb",
   "metadata": {},
   "outputs": [],
   "source": [
    "matching_df"
   ]
  },
  {
   "cell_type": "code",
   "execution_count": null,
   "id": "4b38a100",
   "metadata": {},
   "outputs": [],
   "source": [
    "# Filter for year 2018\n",
    "df_2018 = matching_df[matching_df.index.year == 2018]\n",
    "\n",
    "# List of columns to compare\n",
    "cols = ['rf_enhanced_signal', 'rf_base_signal', 'ols_base_signal', 'ols_enhanced_signal']\n",
    "\n",
    "# Calculate percentage of each column that is different from ols_base_signal\n",
    "percent_diff = {}\n",
    "for col in cols:\n",
    "    if col != 'ols_base_signal':\n",
    "        # Only compare where both are not NaN\n",
    "        valid = df_2018[[col, 'ols_base_signal']].dropna()\n",
    "        diff = (valid[col] != valid['ols_base_signal']).mean() * 100\n",
    "        percent_diff[col] = diff\n",
    "\n",
    "percent_diff"
   ]
  },
  {
   "cell_type": "code",
   "execution_count": null,
   "id": "b58b06e3",
   "metadata": {},
   "outputs": [],
   "source": [
    "all_df_in_dict, all_df_in_dict_2018 = pt.weights().collect_matched_df()"
   ]
  },
  {
   "cell_type": "code",
   "execution_count": null,
   "id": "c1d93c6e",
   "metadata": {},
   "outputs": [],
   "source": [
    "all_df_in_dict_2018['10']"
   ]
  },
  {
   "cell_type": "code",
   "execution_count": null,
   "id": "8d95709f",
   "metadata": {},
   "outputs": [],
   "source": [
    "sect_sig_dict , df_index_list, time_t_sig_allmodelspec = pt.weights().fit()"
   ]
  },
  {
   "cell_type": "code",
   "execution_count": null,
   "id": "f042faf1",
   "metadata": {},
   "outputs": [],
   "source": [
    "sect_sig_dict"
   ]
  },
  {
   "cell_type": "code",
   "execution_count": null,
   "id": "e87aa041",
   "metadata": {},
   "outputs": [],
   "source": [
    "wei = pt.weights().init_w()"
   ]
  },
  {
   "cell_type": "code",
   "execution_count": null,
   "id": "99458176",
   "metadata": {},
   "outputs": [],
   "source": [
    "wei"
   ]
  },
  {
   "cell_type": "code",
   "execution_count": null,
   "id": "b7d19a7d",
   "metadata": {},
   "outputs": [],
   "source": [
    "get_signals_at_time = pt.prep_weights().get_signals_at_time(0)"
   ]
  },
  {
   "cell_type": "code",
   "execution_count": null,
   "id": "4de1fe78",
   "metadata": {},
   "outputs": [],
   "source": [
    "get_signals_at_time"
   ]
  },
  {
   "cell_type": "code",
   "execution_count": null,
   "id": "e41cb110",
   "metadata": {},
   "outputs": [],
   "source": [
    "get_signals_all_models_at_time= pt.prep_weights().get_signals_all_models_at_time(0)"
   ]
  },
  {
   "cell_type": "code",
   "execution_count": null,
   "id": "345190d0",
   "metadata": {},
   "outputs": [],
   "source": [
    "get_signals_all_models_at_time"
   ]
  },
  {
   "cell_type": "code",
   "execution_count": null,
   "id": "86b0ae5a",
   "metadata": {},
   "outputs": [],
   "source": [
    "weights"
   ]
  },
  {
   "cell_type": "code",
   "execution_count": null,
   "id": "01fa73b4",
   "metadata": {},
   "outputs": [],
   "source": [
    "test_weight = pt.weights()"
   ]
  },
  {
   "cell_type": "code",
   "execution_count": null,
   "id": "7e5c3d21",
   "metadata": {},
   "outputs": [],
   "source": [
    "test_weight.calc_weights()"
   ]
  },
  {
   "cell_type": "code",
   "execution_count": null,
   "id": "2a1b03c5",
   "metadata": {},
   "outputs": [],
   "source": [
    "from pathlib import Path\n",
    "import pandas as pd\n",
    "data_dir = Path('data')\n",
    "print(f\"Data directory: {data_dir}\")\n",
    "df_dict = {\n",
    "    file.stem.replace(\"sector_\",\"\") : pd.read_parquet(file)\n",
    "    for file in data_dir.glob(\"sector_*.parquet\")\n",
    "}"
   ]
  },
  {
   "cell_type": "code",
   "execution_count": null,
   "id": "331b222f",
   "metadata": {},
   "outputs": [],
   "source": [
    "df_dict['10']"
   ]
  },
  {
   "cell_type": "code",
   "execution_count": null,
   "id": "ac5419b3",
   "metadata": {},
   "outputs": [],
   "source": [
    "dataframes = pt.weighted_ret(df_dict).calc_weighted_ret()"
   ]
  },
  {
   "cell_type": "code",
   "execution_count": null,
   "id": "4762e851",
   "metadata": {},
   "outputs": [],
   "source": [
    "dataframes['60']"
   ]
  },
  {
   "cell_type": "code",
   "execution_count": null,
   "id": "81b500b8",
   "metadata": {},
   "outputs": [
    {
     "name": "stderr",
     "output_type": "stream",
     "text": [
      "/opt/anaconda3/envs/mscthesis/lib/python3.12/site-packages/IPython/extensions/deduperreload/deduperreload.py:290: DeprecationWarning: ast.Ellipsis is deprecated and will be removed in Python 3.14; use ast.Constant instead\n",
      "  elif not isinstance(ast_elt, (ast.Ellipsis, ast.Pass)):\n",
      "/opt/anaconda3/envs/mscthesis/lib/python3.12/site-packages/IPython/extensions/deduperreload/deduperreload.py:290: DeprecationWarning: ast.Ellipsis is deprecated and will be removed in Python 3.14; use ast.Constant instead\n",
      "  elif not isinstance(ast_elt, (ast.Ellipsis, ast.Pass)):\n",
      "/opt/anaconda3/envs/mscthesis/lib/python3.12/site-packages/IPython/extensions/deduperreload/deduperreload.py:290: DeprecationWarning: ast.Ellipsis is deprecated and will be removed in Python 3.14; use ast.Constant instead\n",
      "  elif not isinstance(ast_elt, (ast.Ellipsis, ast.Pass)):\n",
      "/opt/anaconda3/envs/mscthesis/lib/python3.12/site-packages/IPython/extensions/deduperreload/deduperreload.py:290: DeprecationWarning: ast.Ellipsis is deprecated and will be removed in Python 3.14; use ast.Constant instead\n",
      "  elif not isinstance(ast_elt, (ast.Ellipsis, ast.Pass)):\n",
      "/opt/anaconda3/envs/mscthesis/lib/python3.12/site-packages/IPython/extensions/deduperreload/deduperreload.py:290: DeprecationWarning: ast.Ellipsis is deprecated and will be removed in Python 3.14; use ast.Constant instead\n",
      "  elif not isinstance(ast_elt, (ast.Ellipsis, ast.Pass)):\n",
      "/opt/anaconda3/envs/mscthesis/lib/python3.12/site-packages/IPython/extensions/deduperreload/deduperreload.py:290: DeprecationWarning: ast.Ellipsis is deprecated and will be removed in Python 3.14; use ast.Constant instead\n",
      "  elif not isinstance(ast_elt, (ast.Ellipsis, ast.Pass)):\n",
      "/opt/anaconda3/envs/mscthesis/lib/python3.12/site-packages/IPython/extensions/deduperreload/deduperreload.py:290: DeprecationWarning: ast.Ellipsis is deprecated and will be removed in Python 3.14; use ast.Constant instead\n",
      "  elif not isinstance(ast_elt, (ast.Ellipsis, ast.Pass)):\n",
      "/opt/anaconda3/envs/mscthesis/lib/python3.12/site-packages/IPython/extensions/deduperreload/deduperreload.py:290: DeprecationWarning: ast.Ellipsis is deprecated and will be removed in Python 3.14; use ast.Constant instead\n",
      "  elif not isinstance(ast_elt, (ast.Ellipsis, ast.Pass)):\n"
     ]
    },
    {
     "ename": "TypeError",
     "evalue": "weighted_portfolio_returns.__init__() got an unexpected keyword argument 'weighted_portfolio'",
     "output_type": "error",
     "traceback": [
      "\u001b[31m---------------------------------------------------------------------------\u001b[39m",
      "\u001b[31mTypeError\u001b[39m                                 Traceback (most recent call last)",
      "\u001b[36mCell\u001b[39m\u001b[36m \u001b[39m\u001b[32mIn[15]\u001b[39m\u001b[32m, line 1\u001b[39m\n\u001b[32m----> \u001b[39m\u001b[32m1\u001b[39m weighted_portfolio_returns = \u001b[43mpt\u001b[49m\u001b[43m.\u001b[49m\u001b[43mweighted_portfolio_returns\u001b[49m\u001b[43m(\u001b[49m\u001b[43mweighted_portfolio\u001b[49m\u001b[43m \u001b[49m\u001b[43m=\u001b[49m\u001b[43m \u001b[49m\u001b[33;43m'\u001b[39;49m\u001b[33;43munconstrained\u001b[39;49m\u001b[33;43m'\u001b[39;49m\u001b[43m)\u001b[49m._weighted_portfolios()\n",
      "\u001b[31mTypeError\u001b[39m: weighted_portfolio_returns.__init__() got an unexpected keyword argument 'weighted_portfolio'"
     ]
    }
   ],
   "source": [
    "weighted_portfolio_returns = pt.weighted_portfolio_returns(weight_mode= = 'unconstrained')._weighted_portfolios()"
   ]
  },
  {
   "cell_type": "code",
   "execution_count": null,
   "id": "e983fa64",
   "metadata": {},
   "outputs": [],
   "source": [
    "weighted_portfolio_returns[2]"
   ]
  },
  {
   "cell_type": "code",
   "execution_count": 9,
   "id": "b27f5664",
   "metadata": {},
   "outputs": [
    {
     "name": "stdout",
     "output_type": "stream",
     "text": [
      "Final capital: €1,061,445.22\n",
      "Total P&L:     €61,445.22\n",
      "Total return:  6.14%\n"
     ]
    }
   ],
   "source": [
    "import numpy as np\n",
    "\n",
    "# 1. Your list of daily simple returns, e.g. 1% gain, -0.5% loss, etc.\n",
    "daily_returns = [0.010, -0.005, 0.002, ...]  \n",
    "\n",
    "# 2. Choose starting capital:\n",
    "initial_capital = 1000000  # e.g. €1 000 000, or set to 1 for % returns\n",
    "\n",
    "# 3. Compute cumulative growth factor:\n",
    "growth_factors = [1 + r for r in weighted_portfolio_returns[2]]  \n",
    "cumulative_growth = np.prod(growth_factors)\n",
    "\n",
    "# 4a. Final capital:\n",
    "final_capital = initial_capital * cumulative_growth\n",
    "\n",
    "# 4b. Total P&L:\n",
    "total_pnl = final_capital - initial_capital\n",
    "\n",
    "# 4c. Total return (in %):\n",
    "total_return_pct = (final_capital / initial_capital-1) * 100\n",
    "\n",
    "print(f\"Final capital: €{final_capital:,.2f}\")\n",
    "print(f\"Total P&L:     €{total_pnl:,.2f}\")\n",
    "print(f\"Total return:  {total_return_pct:.2f}%\")\n"
   ]
  }
 ],
 "metadata": {
  "kernelspec": {
   "display_name": "mscthesis",
   "language": "python",
   "name": "python3"
  },
  "language_info": {
   "codemirror_mode": {
    "name": "ipython",
    "version": 3
   },
   "file_extension": ".py",
   "mimetype": "text/x-python",
   "name": "python",
   "nbconvert_exporter": "python",
   "pygments_lexer": "ipython3",
   "version": "3.12.2"
  }
 },
 "nbformat": 4,
 "nbformat_minor": 5
}
